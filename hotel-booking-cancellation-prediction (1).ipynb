{
 "cells": [
  {
   "cell_type": "markdown",
   "id": "983b3abc",
   "metadata": {
    "papermill": {
     "duration": 0.04317,
     "end_time": "2023-08-30T22:38:37.447092",
     "exception": false,
     "start_time": "2023-08-30T22:38:37.403922",
     "status": "completed"
    },
    "tags": []
   },
   "source": [
    "Problem:\n",
    "\n",
    "In this project, we aim to build a predictive model to determine whether a hotel booking would be canceled, which is crucial for hotels as cancellations affect revenue and operational planning. The dataset contains a high number of features related to booking, such as lead time, deposit type, and special requests, which adds to the complexity of the model. The challenge lies in the data preprocessing steps, which include feature selection and engineering, handling missing values, and noise in the data. Additionally, we are going to train different models, evaluate their performance using the right metrics, and interpret the model by analyzing the most important features in the context of hotel booking cancellations.\n",
    "\n"
   ]
  },
  {
   "cell_type": "markdown",
   "id": "b2e62790",
   "metadata": {
    "papermill": {
     "duration": 0.04239,
     "end_time": "2023-08-30T22:38:37.532215",
     "exception": false,
     "start_time": "2023-08-30T22:38:37.489825",
     "status": "completed"
    },
    "tags": []
   },
   "source": [
    "Objectives:\n",
    "\n",
    "* __Explore the Dataset__: Investigate the dataset's basic information, summary statistics for numerical and categorical variables.\n",
    "* __Preprocessing Steps__:\n",
    "  - Select and engineer features \n",
    "  - Handle missing values\n",
    "  - Handle noisy data\n",
    "  - Encode categorical variables\n",
    "* __Model Building__:\n",
    "  - Implement and tune classification models including Decision Trees, Random Forest, and XGBoost.\n",
    "  - Emphasize achieving high F1-score for class 1, ensuring comprehensive identification of booking cancellations\n",
    "* __Evaluate and Compare Model Performance__: Utilize accuracy, precision, recall, F1-score, and AUC to gauge models' effectiveness.\n",
    "* __Analyze Feature Importance__: Understand which features have the most influence on the predictions.\n"
   ]
  },
  {
   "cell_type": "code",
   "execution_count": 1,
   "id": "43502fe5",
   "metadata": {
    "execution": {
     "iopub.execute_input": "2023-08-30T22:38:37.875273Z",
     "iopub.status.busy": "2023-08-30T22:38:37.874366Z",
     "iopub.status.idle": "2023-08-30T22:38:40.231241Z",
     "shell.execute_reply": "2023-08-30T22:38:40.230223Z"
    },
    "papermill": {
     "duration": 2.404036,
     "end_time": "2023-08-30T22:38:40.234444",
     "exception": false,
     "start_time": "2023-08-30T22:38:37.830408",
     "status": "completed"
    },
    "tags": []
   },
   "outputs": [],
   "source": [
    "import warnings\n",
    "warnings.filterwarnings('ignore')\n",
    "\n",
    "import numpy as np\n",
    "import pandas as pd\n",
    "import matplotlib.pyplot as plt\n",
    "import seaborn as sns\n",
    "import xgboost as xgb\n",
    "from matplotlib.colors import ListedColormap, LinearSegmentedColormap\n",
    "from sklearn.model_selection import train_test_split\n",
    "from sklearn.tree import DecisionTreeClassifier\n",
    "from sklearn.ensemble import RandomForestClassifier\n",
    "from sklearn.model_selection import GridSearchCV, StratifiedKFold\n",
    "from sklearn.pipeline import Pipeline\n",
    "from sklearn.metrics import accuracy_score, recall_score, precision_score, f1_score, roc_auc_score\n",
    "from sklearn.metrics import classification_report, RocCurveDisplay, ConfusionMatrixDisplay"
   ]
  },
  {
   "cell_type": "code",
   "execution_count": 2,
   "id": "b9c05b55",
   "metadata": {
    "execution": {
     "iopub.execute_input": "2023-08-30T22:38:40.322770Z",
     "iopub.status.busy": "2023-08-30T22:38:40.322104Z",
     "iopub.status.idle": "2023-08-30T22:38:40.327492Z",
     "shell.execute_reply": "2023-08-30T22:38:40.326613Z"
    },
    "papermill": {
     "duration": 0.052802,
     "end_time": "2023-08-30T22:38:40.329802",
     "exception": false,
     "start_time": "2023-08-30T22:38:40.277000",
     "status": "completed"
    },
    "tags": []
   },
   "outputs": [],
   "source": [
    "# Configure Seaborn plot styles: Set background color and use dark grid\n",
    "sns.set(rc={'axes.facecolor': 'lavender'}, style='darkgrid')"
   ]
  },
  {
   "cell_type": "code",
   "execution_count": 3,
   "id": "59b1a665",
   "metadata": {
    "execution": {
     "iopub.execute_input": "2023-08-30T22:38:40.589668Z",
     "iopub.status.busy": "2023-08-30T22:38:40.588925Z",
     "iopub.status.idle": "2023-08-30T22:38:41.882706Z",
     "shell.execute_reply": "2023-08-30T22:38:41.881797Z"
    },
    "papermill": {
     "duration": 1.34125,
     "end_time": "2023-08-30T22:38:41.885252",
     "exception": false,
     "start_time": "2023-08-30T22:38:40.544002",
     "status": "completed"
    },
    "tags": []
   },
   "outputs": [
    {
     "data": {
      "text/html": [
       "<div>\n",
       "<style scoped>\n",
       "    .dataframe tbody tr th:only-of-type {\n",
       "        vertical-align: middle;\n",
       "    }\n",
       "\n",
       "    .dataframe tbody tr th {\n",
       "        vertical-align: top;\n",
       "    }\n",
       "\n",
       "    .dataframe thead th {\n",
       "        text-align: right;\n",
       "    }\n",
       "</style>\n",
       "<table border=\"1\" class=\"dataframe\">\n",
       "  <thead>\n",
       "    <tr style=\"text-align: right;\">\n",
       "      <th></th>\n",
       "      <th>hotel</th>\n",
       "      <th>is_canceled</th>\n",
       "      <th>lead_time</th>\n",
       "      <th>arrival_date_year</th>\n",
       "      <th>arrival_date_month</th>\n",
       "      <th>arrival_date_week_number</th>\n",
       "      <th>arrival_date_day_of_month</th>\n",
       "      <th>stays_in_weekend_nights</th>\n",
       "      <th>stays_in_week_nights</th>\n",
       "      <th>adults</th>\n",
       "      <th>...</th>\n",
       "      <th>customer_type</th>\n",
       "      <th>adr</th>\n",
       "      <th>required_car_parking_spaces</th>\n",
       "      <th>total_of_special_requests</th>\n",
       "      <th>reservation_status</th>\n",
       "      <th>reservation_status_date</th>\n",
       "      <th>name</th>\n",
       "      <th>email</th>\n",
       "      <th>phone-number</th>\n",
       "      <th>credit_card</th>\n",
       "    </tr>\n",
       "  </thead>\n",
       "  <tbody>\n",
       "    <tr>\n",
       "      <th>0</th>\n",
       "      <td>Resort Hotel</td>\n",
       "      <td>0</td>\n",
       "      <td>342</td>\n",
       "      <td>2015</td>\n",
       "      <td>July</td>\n",
       "      <td>27</td>\n",
       "      <td>1</td>\n",
       "      <td>0</td>\n",
       "      <td>0</td>\n",
       "      <td>2</td>\n",
       "      <td>...</td>\n",
       "      <td>Transient</td>\n",
       "      <td>0.0</td>\n",
       "      <td>0</td>\n",
       "      <td>0</td>\n",
       "      <td>Check-Out</td>\n",
       "      <td>2015-07-01</td>\n",
       "      <td>Ernest Barnes</td>\n",
       "      <td>Ernest.Barnes31@outlook.com</td>\n",
       "      <td>669-792-1661</td>\n",
       "      <td>************4322</td>\n",
       "    </tr>\n",
       "    <tr>\n",
       "      <th>1</th>\n",
       "      <td>Resort Hotel</td>\n",
       "      <td>0</td>\n",
       "      <td>737</td>\n",
       "      <td>2015</td>\n",
       "      <td>July</td>\n",
       "      <td>27</td>\n",
       "      <td>1</td>\n",
       "      <td>0</td>\n",
       "      <td>0</td>\n",
       "      <td>2</td>\n",
       "      <td>...</td>\n",
       "      <td>Transient</td>\n",
       "      <td>0.0</td>\n",
       "      <td>0</td>\n",
       "      <td>0</td>\n",
       "      <td>Check-Out</td>\n",
       "      <td>2015-07-01</td>\n",
       "      <td>Andrea Baker</td>\n",
       "      <td>Andrea_Baker94@aol.com</td>\n",
       "      <td>858-637-6955</td>\n",
       "      <td>************9157</td>\n",
       "    </tr>\n",
       "    <tr>\n",
       "      <th>2</th>\n",
       "      <td>Resort Hotel</td>\n",
       "      <td>0</td>\n",
       "      <td>7</td>\n",
       "      <td>2015</td>\n",
       "      <td>July</td>\n",
       "      <td>27</td>\n",
       "      <td>1</td>\n",
       "      <td>0</td>\n",
       "      <td>1</td>\n",
       "      <td>1</td>\n",
       "      <td>...</td>\n",
       "      <td>Transient</td>\n",
       "      <td>75.0</td>\n",
       "      <td>0</td>\n",
       "      <td>0</td>\n",
       "      <td>Check-Out</td>\n",
       "      <td>2015-07-02</td>\n",
       "      <td>Rebecca Parker</td>\n",
       "      <td>Rebecca_Parker@comcast.net</td>\n",
       "      <td>652-885-2745</td>\n",
       "      <td>************3734</td>\n",
       "    </tr>\n",
       "    <tr>\n",
       "      <th>3</th>\n",
       "      <td>Resort Hotel</td>\n",
       "      <td>0</td>\n",
       "      <td>13</td>\n",
       "      <td>2015</td>\n",
       "      <td>July</td>\n",
       "      <td>27</td>\n",
       "      <td>1</td>\n",
       "      <td>0</td>\n",
       "      <td>1</td>\n",
       "      <td>1</td>\n",
       "      <td>...</td>\n",
       "      <td>Transient</td>\n",
       "      <td>75.0</td>\n",
       "      <td>0</td>\n",
       "      <td>0</td>\n",
       "      <td>Check-Out</td>\n",
       "      <td>2015-07-02</td>\n",
       "      <td>Laura Murray</td>\n",
       "      <td>Laura_M@gmail.com</td>\n",
       "      <td>364-656-8427</td>\n",
       "      <td>************5677</td>\n",
       "    </tr>\n",
       "    <tr>\n",
       "      <th>4</th>\n",
       "      <td>Resort Hotel</td>\n",
       "      <td>0</td>\n",
       "      <td>14</td>\n",
       "      <td>2015</td>\n",
       "      <td>July</td>\n",
       "      <td>27</td>\n",
       "      <td>1</td>\n",
       "      <td>0</td>\n",
       "      <td>2</td>\n",
       "      <td>2</td>\n",
       "      <td>...</td>\n",
       "      <td>Transient</td>\n",
       "      <td>98.0</td>\n",
       "      <td>0</td>\n",
       "      <td>1</td>\n",
       "      <td>Check-Out</td>\n",
       "      <td>2015-07-03</td>\n",
       "      <td>Linda Hines</td>\n",
       "      <td>LHines@verizon.com</td>\n",
       "      <td>713-226-5883</td>\n",
       "      <td>************5498</td>\n",
       "    </tr>\n",
       "  </tbody>\n",
       "</table>\n",
       "<p>5 rows × 36 columns</p>\n",
       "</div>"
      ],
      "text/plain": [
       "          hotel  is_canceled  lead_time  arrival_date_year arrival_date_month  \\\n",
       "0  Resort Hotel            0        342               2015               July   \n",
       "1  Resort Hotel            0        737               2015               July   \n",
       "2  Resort Hotel            0          7               2015               July   \n",
       "3  Resort Hotel            0         13               2015               July   \n",
       "4  Resort Hotel            0         14               2015               July   \n",
       "\n",
       "   arrival_date_week_number  arrival_date_day_of_month  \\\n",
       "0                        27                          1   \n",
       "1                        27                          1   \n",
       "2                        27                          1   \n",
       "3                        27                          1   \n",
       "4                        27                          1   \n",
       "\n",
       "   stays_in_weekend_nights  stays_in_week_nights  adults  ...  customer_type  \\\n",
       "0                        0                     0       2  ...      Transient   \n",
       "1                        0                     0       2  ...      Transient   \n",
       "2                        0                     1       1  ...      Transient   \n",
       "3                        0                     1       1  ...      Transient   \n",
       "4                        0                     2       2  ...      Transient   \n",
       "\n",
       "    adr required_car_parking_spaces total_of_special_requests  \\\n",
       "0   0.0                           0                         0   \n",
       "1   0.0                           0                         0   \n",
       "2  75.0                           0                         0   \n",
       "3  75.0                           0                         0   \n",
       "4  98.0                           0                         1   \n",
       "\n",
       "  reservation_status reservation_status_date            name  \\\n",
       "0          Check-Out              2015-07-01   Ernest Barnes   \n",
       "1          Check-Out              2015-07-01    Andrea Baker   \n",
       "2          Check-Out              2015-07-02  Rebecca Parker   \n",
       "3          Check-Out              2015-07-02    Laura Murray   \n",
       "4          Check-Out              2015-07-03     Linda Hines   \n",
       "\n",
       "                         email  phone-number       credit_card  \n",
       "0  Ernest.Barnes31@outlook.com  669-792-1661  ************4322  \n",
       "1       Andrea_Baker94@aol.com  858-637-6955  ************9157  \n",
       "2   Rebecca_Parker@comcast.net  652-885-2745  ************3734  \n",
       "3            Laura_M@gmail.com  364-656-8427  ************5677  \n",
       "4           LHines@verizon.com  713-226-5883  ************5498  \n",
       "\n",
       "[5 rows x 36 columns]"
      ]
     },
     "execution_count": 3,
     "metadata": {},
     "output_type": "execute_result"
    }
   ],
   "source": [
    "# Read dataset\n",
    "df = pd.read_csv('/kaggle/input/hotel-bookingcvs/hotel_booking.csv')\n",
    "df.head()"
   ]
  },
  {
   "cell_type": "markdown",
   "id": "3c8bcfd0",
   "metadata": {
    "papermill": {
     "duration": 0.042532,
     "end_time": "2023-08-30T22:38:42.229870",
     "exception": false,
     "start_time": "2023-08-30T22:38:42.187338",
     "status": "completed"
    },
    "tags": []
   },
   "source": [
    "Step 3.1  Dataset Basic Information"
   ]
  },
  {
   "cell_type": "code",
   "execution_count": 4,
   "id": "66f2d32c",
   "metadata": {
    "execution": {
     "iopub.execute_input": "2023-08-30T22:38:42.318276Z",
     "iopub.status.busy": "2023-08-30T22:38:42.317595Z",
     "iopub.status.idle": "2023-08-30T22:38:42.958416Z",
     "shell.execute_reply": "2023-08-30T22:38:42.957146Z"
    },
    "papermill": {
     "duration": 0.688647,
     "end_time": "2023-08-30T22:38:42.961361",
     "exception": false,
     "start_time": "2023-08-30T22:38:42.272714",
     "status": "completed"
    },
    "tags": []
   },
   "outputs": [
    {
     "name": "stdout",
     "output_type": "stream",
     "text": [
      "<class 'pandas.core.frame.DataFrame'>\n",
      "RangeIndex: 119390 entries, 0 to 119389\n",
      "Data columns (total 36 columns):\n",
      " #   Column                          Non-Null Count   Dtype  \n",
      "---  ------                          --------------   -----  \n",
      " 0   hotel                           119390 non-null  object \n",
      " 1   is_canceled                     119390 non-null  int64  \n",
      " 2   lead_time                       119390 non-null  int64  \n",
      " 3   arrival_date_year               119390 non-null  int64  \n",
      " 4   arrival_date_month              119390 non-null  object \n",
      " 5   arrival_date_week_number        119390 non-null  int64  \n",
      " 6   arrival_date_day_of_month       119390 non-null  int64  \n",
      " 7   stays_in_weekend_nights         119390 non-null  int64  \n",
      " 8   stays_in_week_nights            119390 non-null  int64  \n",
      " 9   adults                          119390 non-null  int64  \n",
      " 10  children                        119386 non-null  float64\n",
      " 11  babies                          119390 non-null  int64  \n",
      " 12  meal                            119390 non-null  object \n",
      " 13  country                         118902 non-null  object \n",
      " 14  market_segment                  119390 non-null  object \n",
      " 15  distribution_channel            119390 non-null  object \n",
      " 16  is_repeated_guest               119390 non-null  int64  \n",
      " 17  previous_cancellations          119390 non-null  int64  \n",
      " 18  previous_bookings_not_canceled  119390 non-null  int64  \n",
      " 19  reserved_room_type              119390 non-null  object \n",
      " 20  assigned_room_type              119390 non-null  object \n",
      " 21  booking_changes                 119390 non-null  int64  \n",
      " 22  deposit_type                    119390 non-null  object \n",
      " 23  agent                           103050 non-null  float64\n",
      " 24  company                         6797 non-null    float64\n",
      " 25  days_in_waiting_list            119390 non-null  int64  \n",
      " 26  customer_type                   119390 non-null  object \n",
      " 27  adr                             119390 non-null  float64\n",
      " 28  required_car_parking_spaces     119390 non-null  int64  \n",
      " 29  total_of_special_requests       119390 non-null  int64  \n",
      " 30  reservation_status              119390 non-null  object \n",
      " 31  reservation_status_date         119390 non-null  object \n",
      " 32  name                            119390 non-null  object \n",
      " 33  email                           119390 non-null  object \n",
      " 34  phone-number                    119390 non-null  object \n",
      " 35  credit_card                     119390 non-null  object \n",
      "dtypes: float64(4), int64(16), object(16)\n",
      "memory usage: 32.8+ MB\n"
     ]
    }
   ],
   "source": [
    "df.info()"
   ]
  },
  {
   "cell_type": "code",
   "execution_count": 5,
   "id": "f2dfb18c",
   "metadata": {
    "execution": {
     "iopub.execute_input": "2023-08-30T22:38:43.223709Z",
     "iopub.status.busy": "2023-08-30T22:38:43.223292Z",
     "iopub.status.idle": "2023-08-30T22:38:43.932081Z",
     "shell.execute_reply": "2023-08-30T22:38:43.930788Z"
    },
    "papermill": {
     "duration": 0.756451,
     "end_time": "2023-08-30T22:38:43.934645",
     "exception": false,
     "start_time": "2023-08-30T22:38:43.178194",
     "status": "completed"
    },
    "tags": []
   },
   "outputs": [
    {
     "data": {
      "text/plain": [
       "hotel                              object\n",
       "is_canceled                        object\n",
       "lead_time                           int64\n",
       "arrival_date_year                  object\n",
       "arrival_date_month                 object\n",
       "arrival_date_week_number            int64\n",
       "arrival_date_day_of_month           int64\n",
       "stays_in_weekend_nights             int64\n",
       "stays_in_week_nights                int64\n",
       "adults                              int64\n",
       "children                          float64\n",
       "babies                              int64\n",
       "meal                               object\n",
       "country                            object\n",
       "market_segment                     object\n",
       "distribution_channel               object\n",
       "is_repeated_guest                  object\n",
       "previous_cancellations              int64\n",
       "previous_bookings_not_canceled      int64\n",
       "reserved_room_type                 object\n",
       "assigned_room_type                 object\n",
       "booking_changes                     int64\n",
       "deposit_type                       object\n",
       "agent                              object\n",
       "company                            object\n",
       "days_in_waiting_list                int64\n",
       "customer_type                      object\n",
       "adr                               float64\n",
       "required_car_parking_spaces         int64\n",
       "total_of_special_requests           int64\n",
       "reservation_status                 object\n",
       "reservation_status_date            object\n",
       "name                               object\n",
       "email                              object\n",
       "phone-number                       object\n",
       "credit_card                        object\n",
       "dtype: object"
      ]
     },
     "execution_count": 5,
     "metadata": {},
     "output_type": "execute_result"
    }
   ],
   "source": [
    "# Based on the given dataset description, list the columns that are categorical in terms of their semantics\n",
    "categorical_columns_semantics = [\n",
    "    'hotel',\n",
    "    'is_canceled',\n",
    "    'arrival_date_year',\n",
    "    'arrival_date_month',\n",
    "    'meal',\n",
    "    'country',\n",
    "    'market_segment',\n",
    "    'distribution_channel',\n",
    "    'is_repeated_guest',\n",
    "    'reserved_room_type',\n",
    "    'assigned_room_type',\n",
    "    'deposit_type',\n",
    "    'agent',\n",
    "    'company',\n",
    "    'customer_type',\n",
    "    'reservation_status',\n",
    "    'name',\n",
    "    'email',\n",
    "    'phone-number',\n",
    "    'credit_card'\n",
    "]\n",
    "\n",
    "# Convert these columns to string (object) data type\n",
    "for column in categorical_columns_semantics:\n",
    "    if column in df.columns:\n",
    "        df[column] = df[column].astype(str)\n",
    "\n",
    "# Verify the changes in data types\n",
    "df.dtypes"
   ]
  },
  {
   "cell_type": "markdown",
   "id": "ef761706",
   "metadata": {
    "papermill": {
     "duration": 0.043546,
     "end_time": "2023-08-30T22:38:44.021663",
     "exception": false,
     "start_time": "2023-08-30T22:38:43.978117",
     "status": "completed"
    },
    "tags": []
   },
   "source": [
    "Step 3.2 Summary Statistics for Numerical Variables"
   ]
  },
  {
   "cell_type": "code",
   "execution_count": 6,
   "id": "cad8f7d7",
   "metadata": {
    "execution": {
     "iopub.execute_input": "2023-08-30T22:38:44.197188Z",
     "iopub.status.busy": "2023-08-30T22:38:44.196042Z",
     "iopub.status.idle": "2023-08-30T22:38:44.301074Z",
     "shell.execute_reply": "2023-08-30T22:38:44.300210Z"
    },
    "papermill": {
     "duration": 0.151726,
     "end_time": "2023-08-30T22:38:44.303332",
     "exception": false,
     "start_time": "2023-08-30T22:38:44.151606",
     "status": "completed"
    },
    "tags": []
   },
   "outputs": [
    {
     "data": {
      "text/html": [
       "<div>\n",
       "<style scoped>\n",
       "    .dataframe tbody tr th:only-of-type {\n",
       "        vertical-align: middle;\n",
       "    }\n",
       "\n",
       "    .dataframe tbody tr th {\n",
       "        vertical-align: top;\n",
       "    }\n",
       "\n",
       "    .dataframe thead th {\n",
       "        text-align: right;\n",
       "    }\n",
       "</style>\n",
       "<table border=\"1\" class=\"dataframe\">\n",
       "  <thead>\n",
       "    <tr style=\"text-align: right;\">\n",
       "      <th></th>\n",
       "      <th>count</th>\n",
       "      <th>mean</th>\n",
       "      <th>std</th>\n",
       "      <th>min</th>\n",
       "      <th>25%</th>\n",
       "      <th>50%</th>\n",
       "      <th>75%</th>\n",
       "      <th>max</th>\n",
       "    </tr>\n",
       "  </thead>\n",
       "  <tbody>\n",
       "    <tr>\n",
       "      <th>lead_time</th>\n",
       "      <td>119390.0</td>\n",
       "      <td>104.011416</td>\n",
       "      <td>106.863097</td>\n",
       "      <td>0.00</td>\n",
       "      <td>18.00</td>\n",
       "      <td>69.000</td>\n",
       "      <td>160.0</td>\n",
       "      <td>737.0</td>\n",
       "    </tr>\n",
       "    <tr>\n",
       "      <th>arrival_date_week_number</th>\n",
       "      <td>119390.0</td>\n",
       "      <td>27.165173</td>\n",
       "      <td>13.605138</td>\n",
       "      <td>1.00</td>\n",
       "      <td>16.00</td>\n",
       "      <td>28.000</td>\n",
       "      <td>38.0</td>\n",
       "      <td>53.0</td>\n",
       "    </tr>\n",
       "    <tr>\n",
       "      <th>arrival_date_day_of_month</th>\n",
       "      <td>119390.0</td>\n",
       "      <td>15.798241</td>\n",
       "      <td>8.780829</td>\n",
       "      <td>1.00</td>\n",
       "      <td>8.00</td>\n",
       "      <td>16.000</td>\n",
       "      <td>23.0</td>\n",
       "      <td>31.0</td>\n",
       "    </tr>\n",
       "    <tr>\n",
       "      <th>stays_in_weekend_nights</th>\n",
       "      <td>119390.0</td>\n",
       "      <td>0.927599</td>\n",
       "      <td>0.998613</td>\n",
       "      <td>0.00</td>\n",
       "      <td>0.00</td>\n",
       "      <td>1.000</td>\n",
       "      <td>2.0</td>\n",
       "      <td>19.0</td>\n",
       "    </tr>\n",
       "    <tr>\n",
       "      <th>stays_in_week_nights</th>\n",
       "      <td>119390.0</td>\n",
       "      <td>2.500302</td>\n",
       "      <td>1.908286</td>\n",
       "      <td>0.00</td>\n",
       "      <td>1.00</td>\n",
       "      <td>2.000</td>\n",
       "      <td>3.0</td>\n",
       "      <td>50.0</td>\n",
       "    </tr>\n",
       "    <tr>\n",
       "      <th>adults</th>\n",
       "      <td>119390.0</td>\n",
       "      <td>1.856403</td>\n",
       "      <td>0.579261</td>\n",
       "      <td>0.00</td>\n",
       "      <td>2.00</td>\n",
       "      <td>2.000</td>\n",
       "      <td>2.0</td>\n",
       "      <td>55.0</td>\n",
       "    </tr>\n",
       "    <tr>\n",
       "      <th>children</th>\n",
       "      <td>119386.0</td>\n",
       "      <td>0.103890</td>\n",
       "      <td>0.398561</td>\n",
       "      <td>0.00</td>\n",
       "      <td>0.00</td>\n",
       "      <td>0.000</td>\n",
       "      <td>0.0</td>\n",
       "      <td>10.0</td>\n",
       "    </tr>\n",
       "    <tr>\n",
       "      <th>babies</th>\n",
       "      <td>119390.0</td>\n",
       "      <td>0.007949</td>\n",
       "      <td>0.097436</td>\n",
       "      <td>0.00</td>\n",
       "      <td>0.00</td>\n",
       "      <td>0.000</td>\n",
       "      <td>0.0</td>\n",
       "      <td>10.0</td>\n",
       "    </tr>\n",
       "    <tr>\n",
       "      <th>previous_cancellations</th>\n",
       "      <td>119390.0</td>\n",
       "      <td>0.087118</td>\n",
       "      <td>0.844336</td>\n",
       "      <td>0.00</td>\n",
       "      <td>0.00</td>\n",
       "      <td>0.000</td>\n",
       "      <td>0.0</td>\n",
       "      <td>26.0</td>\n",
       "    </tr>\n",
       "    <tr>\n",
       "      <th>previous_bookings_not_canceled</th>\n",
       "      <td>119390.0</td>\n",
       "      <td>0.137097</td>\n",
       "      <td>1.497437</td>\n",
       "      <td>0.00</td>\n",
       "      <td>0.00</td>\n",
       "      <td>0.000</td>\n",
       "      <td>0.0</td>\n",
       "      <td>72.0</td>\n",
       "    </tr>\n",
       "    <tr>\n",
       "      <th>booking_changes</th>\n",
       "      <td>119390.0</td>\n",
       "      <td>0.221124</td>\n",
       "      <td>0.652306</td>\n",
       "      <td>0.00</td>\n",
       "      <td>0.00</td>\n",
       "      <td>0.000</td>\n",
       "      <td>0.0</td>\n",
       "      <td>21.0</td>\n",
       "    </tr>\n",
       "    <tr>\n",
       "      <th>days_in_waiting_list</th>\n",
       "      <td>119390.0</td>\n",
       "      <td>2.321149</td>\n",
       "      <td>17.594721</td>\n",
       "      <td>0.00</td>\n",
       "      <td>0.00</td>\n",
       "      <td>0.000</td>\n",
       "      <td>0.0</td>\n",
       "      <td>391.0</td>\n",
       "    </tr>\n",
       "    <tr>\n",
       "      <th>adr</th>\n",
       "      <td>119390.0</td>\n",
       "      <td>101.831122</td>\n",
       "      <td>50.535790</td>\n",
       "      <td>-6.38</td>\n",
       "      <td>69.29</td>\n",
       "      <td>94.575</td>\n",
       "      <td>126.0</td>\n",
       "      <td>5400.0</td>\n",
       "    </tr>\n",
       "    <tr>\n",
       "      <th>required_car_parking_spaces</th>\n",
       "      <td>119390.0</td>\n",
       "      <td>0.062518</td>\n",
       "      <td>0.245291</td>\n",
       "      <td>0.00</td>\n",
       "      <td>0.00</td>\n",
       "      <td>0.000</td>\n",
       "      <td>0.0</td>\n",
       "      <td>8.0</td>\n",
       "    </tr>\n",
       "    <tr>\n",
       "      <th>total_of_special_requests</th>\n",
       "      <td>119390.0</td>\n",
       "      <td>0.571363</td>\n",
       "      <td>0.792798</td>\n",
       "      <td>0.00</td>\n",
       "      <td>0.00</td>\n",
       "      <td>0.000</td>\n",
       "      <td>1.0</td>\n",
       "      <td>5.0</td>\n",
       "    </tr>\n",
       "  </tbody>\n",
       "</table>\n",
       "</div>"
      ],
      "text/plain": [
       "                                   count        mean         std   min    25%  \\\n",
       "lead_time                       119390.0  104.011416  106.863097  0.00  18.00   \n",
       "arrival_date_week_number        119390.0   27.165173   13.605138  1.00  16.00   \n",
       "arrival_date_day_of_month       119390.0   15.798241    8.780829  1.00   8.00   \n",
       "stays_in_weekend_nights         119390.0    0.927599    0.998613  0.00   0.00   \n",
       "stays_in_week_nights            119390.0    2.500302    1.908286  0.00   1.00   \n",
       "adults                          119390.0    1.856403    0.579261  0.00   2.00   \n",
       "children                        119386.0    0.103890    0.398561  0.00   0.00   \n",
       "babies                          119390.0    0.007949    0.097436  0.00   0.00   \n",
       "previous_cancellations          119390.0    0.087118    0.844336  0.00   0.00   \n",
       "previous_bookings_not_canceled  119390.0    0.137097    1.497437  0.00   0.00   \n",
       "booking_changes                 119390.0    0.221124    0.652306  0.00   0.00   \n",
       "days_in_waiting_list            119390.0    2.321149   17.594721  0.00   0.00   \n",
       "adr                             119390.0  101.831122   50.535790 -6.38  69.29   \n",
       "required_car_parking_spaces     119390.0    0.062518    0.245291  0.00   0.00   \n",
       "total_of_special_requests       119390.0    0.571363    0.792798  0.00   0.00   \n",
       "\n",
       "                                   50%    75%     max  \n",
       "lead_time                       69.000  160.0   737.0  \n",
       "arrival_date_week_number        28.000   38.0    53.0  \n",
       "arrival_date_day_of_month       16.000   23.0    31.0  \n",
       "stays_in_weekend_nights          1.000    2.0    19.0  \n",
       "stays_in_week_nights             2.000    3.0    50.0  \n",
       "adults                           2.000    2.0    55.0  \n",
       "children                         0.000    0.0    10.0  \n",
       "babies                           0.000    0.0    10.0  \n",
       "previous_cancellations           0.000    0.0    26.0  \n",
       "previous_bookings_not_canceled   0.000    0.0    72.0  \n",
       "booking_changes                  0.000    0.0    21.0  \n",
       "days_in_waiting_list             0.000    0.0   391.0  \n",
       "adr                             94.575  126.0  5400.0  \n",
       "required_car_parking_spaces      0.000    0.0     8.0  \n",
       "total_of_special_requests        0.000    1.0     5.0  "
      ]
     },
     "execution_count": 6,
     "metadata": {},
     "output_type": "execute_result"
    }
   ],
   "source": [
    "# Get the summary statistics for numerical variables\n",
    "df.describe().T"
   ]
  },
  {
   "cell_type": "markdown",
   "id": "014db2ee",
   "metadata": {
    "papermill": {
     "duration": 0.043678,
     "end_time": "2023-08-30T22:38:44.565598",
     "exception": false,
     "start_time": "2023-08-30T22:38:44.521920",
     "status": "completed"
    },
    "tags": []
   },
   "source": [
    "Step 3.3 Summary Statistics for Categorical Variables"
   ]
  },
  {
   "cell_type": "code",
   "execution_count": 7,
   "id": "3f6f714f",
   "metadata": {
    "execution": {
     "iopub.execute_input": "2023-08-30T22:38:44.743257Z",
     "iopub.status.busy": "2023-08-30T22:38:44.742517Z",
     "iopub.status.idle": "2023-08-30T22:38:45.852979Z",
     "shell.execute_reply": "2023-08-30T22:38:45.851851Z"
    },
    "papermill": {
     "duration": 1.158034,
     "end_time": "2023-08-30T22:38:45.855297",
     "exception": false,
     "start_time": "2023-08-30T22:38:44.697263",
     "status": "completed"
    },
    "tags": []
   },
   "outputs": [
    {
     "data": {
      "text/html": [
       "<div>\n",
       "<style scoped>\n",
       "    .dataframe tbody tr th:only-of-type {\n",
       "        vertical-align: middle;\n",
       "    }\n",
       "\n",
       "    .dataframe tbody tr th {\n",
       "        vertical-align: top;\n",
       "    }\n",
       "\n",
       "    .dataframe thead th {\n",
       "        text-align: right;\n",
       "    }\n",
       "</style>\n",
       "<table border=\"1\" class=\"dataframe\">\n",
       "  <thead>\n",
       "    <tr style=\"text-align: right;\">\n",
       "      <th></th>\n",
       "      <th>count</th>\n",
       "      <th>unique</th>\n",
       "      <th>top</th>\n",
       "      <th>freq</th>\n",
       "    </tr>\n",
       "  </thead>\n",
       "  <tbody>\n",
       "    <tr>\n",
       "      <th>hotel</th>\n",
       "      <td>119390</td>\n",
       "      <td>2</td>\n",
       "      <td>City Hotel</td>\n",
       "      <td>79330</td>\n",
       "    </tr>\n",
       "    <tr>\n",
       "      <th>is_canceled</th>\n",
       "      <td>119390</td>\n",
       "      <td>2</td>\n",
       "      <td>0</td>\n",
       "      <td>75166</td>\n",
       "    </tr>\n",
       "    <tr>\n",
       "      <th>arrival_date_year</th>\n",
       "      <td>119390</td>\n",
       "      <td>3</td>\n",
       "      <td>2016</td>\n",
       "      <td>56707</td>\n",
       "    </tr>\n",
       "    <tr>\n",
       "      <th>arrival_date_month</th>\n",
       "      <td>119390</td>\n",
       "      <td>12</td>\n",
       "      <td>August</td>\n",
       "      <td>13877</td>\n",
       "    </tr>\n",
       "    <tr>\n",
       "      <th>meal</th>\n",
       "      <td>119390</td>\n",
       "      <td>5</td>\n",
       "      <td>BB</td>\n",
       "      <td>92310</td>\n",
       "    </tr>\n",
       "    <tr>\n",
       "      <th>country</th>\n",
       "      <td>119390</td>\n",
       "      <td>178</td>\n",
       "      <td>PRT</td>\n",
       "      <td>48590</td>\n",
       "    </tr>\n",
       "    <tr>\n",
       "      <th>market_segment</th>\n",
       "      <td>119390</td>\n",
       "      <td>8</td>\n",
       "      <td>Online TA</td>\n",
       "      <td>56477</td>\n",
       "    </tr>\n",
       "    <tr>\n",
       "      <th>distribution_channel</th>\n",
       "      <td>119390</td>\n",
       "      <td>5</td>\n",
       "      <td>TA/TO</td>\n",
       "      <td>97870</td>\n",
       "    </tr>\n",
       "    <tr>\n",
       "      <th>is_repeated_guest</th>\n",
       "      <td>119390</td>\n",
       "      <td>2</td>\n",
       "      <td>0</td>\n",
       "      <td>115580</td>\n",
       "    </tr>\n",
       "    <tr>\n",
       "      <th>reserved_room_type</th>\n",
       "      <td>119390</td>\n",
       "      <td>10</td>\n",
       "      <td>A</td>\n",
       "      <td>85994</td>\n",
       "    </tr>\n",
       "    <tr>\n",
       "      <th>assigned_room_type</th>\n",
       "      <td>119390</td>\n",
       "      <td>12</td>\n",
       "      <td>A</td>\n",
       "      <td>74053</td>\n",
       "    </tr>\n",
       "    <tr>\n",
       "      <th>deposit_type</th>\n",
       "      <td>119390</td>\n",
       "      <td>3</td>\n",
       "      <td>No Deposit</td>\n",
       "      <td>104641</td>\n",
       "    </tr>\n",
       "    <tr>\n",
       "      <th>agent</th>\n",
       "      <td>119390</td>\n",
       "      <td>334</td>\n",
       "      <td>9.0</td>\n",
       "      <td>31961</td>\n",
       "    </tr>\n",
       "    <tr>\n",
       "      <th>company</th>\n",
       "      <td>119390</td>\n",
       "      <td>353</td>\n",
       "      <td>nan</td>\n",
       "      <td>112593</td>\n",
       "    </tr>\n",
       "    <tr>\n",
       "      <th>customer_type</th>\n",
       "      <td>119390</td>\n",
       "      <td>4</td>\n",
       "      <td>Transient</td>\n",
       "      <td>89613</td>\n",
       "    </tr>\n",
       "    <tr>\n",
       "      <th>reservation_status</th>\n",
       "      <td>119390</td>\n",
       "      <td>3</td>\n",
       "      <td>Check-Out</td>\n",
       "      <td>75166</td>\n",
       "    </tr>\n",
       "    <tr>\n",
       "      <th>reservation_status_date</th>\n",
       "      <td>119390</td>\n",
       "      <td>926</td>\n",
       "      <td>2015-10-21</td>\n",
       "      <td>1461</td>\n",
       "    </tr>\n",
       "    <tr>\n",
       "      <th>name</th>\n",
       "      <td>119390</td>\n",
       "      <td>81503</td>\n",
       "      <td>Michael Johnson</td>\n",
       "      <td>48</td>\n",
       "    </tr>\n",
       "    <tr>\n",
       "      <th>email</th>\n",
       "      <td>119390</td>\n",
       "      <td>115889</td>\n",
       "      <td>Michael.C@gmail.com</td>\n",
       "      <td>6</td>\n",
       "    </tr>\n",
       "    <tr>\n",
       "      <th>phone-number</th>\n",
       "      <td>119390</td>\n",
       "      <td>119390</td>\n",
       "      <td>669-792-1661</td>\n",
       "      <td>1</td>\n",
       "    </tr>\n",
       "    <tr>\n",
       "      <th>credit_card</th>\n",
       "      <td>119390</td>\n",
       "      <td>9000</td>\n",
       "      <td>************4923</td>\n",
       "      <td>28</td>\n",
       "    </tr>\n",
       "  </tbody>\n",
       "</table>\n",
       "</div>"
      ],
      "text/plain": [
       "                          count  unique                  top    freq\n",
       "hotel                    119390       2           City Hotel   79330\n",
       "is_canceled              119390       2                    0   75166\n",
       "arrival_date_year        119390       3                 2016   56707\n",
       "arrival_date_month       119390      12               August   13877\n",
       "meal                     119390       5                   BB   92310\n",
       "country                  119390     178                  PRT   48590\n",
       "market_segment           119390       8            Online TA   56477\n",
       "distribution_channel     119390       5                TA/TO   97870\n",
       "is_repeated_guest        119390       2                    0  115580\n",
       "reserved_room_type       119390      10                    A   85994\n",
       "assigned_room_type       119390      12                    A   74053\n",
       "deposit_type             119390       3           No Deposit  104641\n",
       "agent                    119390     334                  9.0   31961\n",
       "company                  119390     353                  nan  112593\n",
       "customer_type            119390       4            Transient   89613\n",
       "reservation_status       119390       3            Check-Out   75166\n",
       "reservation_status_date  119390     926           2015-10-21    1461\n",
       "name                     119390   81503      Michael Johnson      48\n",
       "email                    119390  115889  Michael.C@gmail.com       6\n",
       "phone-number             119390  119390         669-792-1661       1\n",
       "credit_card              119390    9000     ************4923      28"
      ]
     },
     "execution_count": 7,
     "metadata": {},
     "output_type": "execute_result"
    }
   ],
   "source": [
    "# Get the summary statistics for categorical variables\n",
    "df.describe(include='object').T"
   ]
  },
  {
   "cell_type": "markdown",
   "id": "c84b9c15",
   "metadata": {
    "papermill": {
     "duration": 0.044589,
     "end_time": "2023-08-30T22:38:46.033466",
     "exception": false,
     "start_time": "2023-08-30T22:38:45.988877",
     "status": "completed"
    },
    "tags": []
   },
   "source": [
    "Step 4 | Data Preprocessing"
   ]
  },
  {
   "cell_type": "markdown",
   "id": "a13e69c9",
   "metadata": {
    "papermill": {
     "duration": 0.044397,
     "end_time": "2023-08-30T22:38:46.122714",
     "exception": false,
     "start_time": "2023-08-30T22:38:46.078317",
     "status": "completed"
    },
    "tags": []
   },
   "source": [
    "<div style=\"border-radius:10px; padding: 15px; background-color: #d1d1ed; font-size:115%; text-align:left\">\n",
    "\n",
    "Data preprocessing is a crucial step in any machine learning project. It involves cleaning and transforming raw data into a format that can be understood by machine learning algorithms."
   ]
  },
  {
   "cell_type": "markdown",
   "id": "d9f78a19",
   "metadata": {
    "papermill": {
     "duration": 0.044072,
     "end_time": "2023-08-30T22:38:46.210893",
     "exception": false,
     "start_time": "2023-08-30T22:38:46.166821",
     "status": "completed"
    },
    "tags": []
   },
   "source": [
    "<a id=\"engineering\"></a>\n",
    "# <b><span style='color:darkturquoise'>Step 4.1 |</span><span style='color:royalblue'> Feature Selection and Engineering</span></b>"
   ]
  },
  {
   "cell_type": "markdown",
   "id": "3251da07",
   "metadata": {
    "papermill": {
     "duration": 0.043961,
     "end_time": "2023-08-30T22:38:46.298912",
     "exception": false,
     "start_time": "2023-08-30T22:38:46.254951",
     "status": "completed"
    },
    "tags": []
   },
   "source": [
    "<div style=\"border-radius:10px; padding: 15px; background-color: #d1d1ed; font-size:115%; text-align:left\">\n",
    "\n",
    "In the __Feature Selection and Engineering__ step, we prepare the dataset for modeling by performing several crucial activities:\n",
    "\n",
    "1. **Removing Directly Related Features:** We remove features that are directly related to the target variable to prevent data leakage and ensure a fair evaluation of the model.\n",
    "   \n",
    "    \n",
    "2. **Dropping Irrelevant Features:** Next, we drop irrelevant features that do not provide any useful information for predicting the target variable.\n",
    "   \n",
    "    \n",
    "3. **Engineering and Dropping High-Cardinality Features:** We engineer some high-cardinality features to extract relevant information and then drop all high-cardinality features, including the ones from which we extracted information.\n",
    "\n",
    "These activities help in reducing the dimensionality of the dataset, preventing data leakage, and creating new features that may provide additional information for the model.\n"
   ]
  },
  {
   "cell_type": "code",
   "execution_count": 8,
   "id": "224bf3b9",
   "metadata": {
    "execution": {
     "iopub.execute_input": "2023-08-30T22:38:46.388990Z",
     "iopub.status.busy": "2023-08-30T22:38:46.388624Z",
     "iopub.status.idle": "2023-08-30T22:38:47.238729Z",
     "shell.execute_reply": "2023-08-30T22:38:47.237549Z"
    },
    "papermill": {
     "duration": 0.898326,
     "end_time": "2023-08-30T22:38:47.241479",
     "exception": false,
     "start_time": "2023-08-30T22:38:46.343153",
     "status": "completed"
    },
    "tags": []
   },
   "outputs": [],
   "source": [
    "# Reload the dataset to retain the original data types of the variables\n",
    "df = pd.read_csv('/kaggle/input/hotel-bookingcvs/hotel_booking.csv')"
   ]
  },
  {
   "cell_type": "markdown",
   "id": "83ff3e05",
   "metadata": {
    "papermill": {
     "duration": 0.044091,
     "end_time": "2023-08-30T22:38:47.333886",
     "exception": false,
     "start_time": "2023-08-30T22:38:47.289795",
     "status": "completed"
    },
    "tags": []
   },
   "source": [
    "<a id=\"direct\"></a>\n",
    "## <b><span style='color:darkturquoise'>Step 4.1.1 |</span><span style='color:royalblue'> Remove Directly Related Features</span></b>"
   ]
  },
  {
   "cell_type": "markdown",
   "id": "f2df71ad",
   "metadata": {
    "papermill": {
     "duration": 0.043806,
     "end_time": "2023-08-30T22:38:47.422147",
     "exception": false,
     "start_time": "2023-08-30T22:38:47.378341",
     "status": "completed"
    },
    "tags": []
   },
   "source": [
    "<div style=\"border-radius:10px; padding: 15px; background-color: #d1d1ed; font-size:115%; text-align:left\">\n",
    "\n",
    "Features like `reservation_status`, `reservation_status_date` and `assigned_room_type` are directly related to the target variable `is_canceled`, and including them in the model would result in __data leakage__. Removing these features is essential to build a predictive model that can genuinely forecast cancellations, rather than retrospectively label them:"
   ]
  },
  {
   "cell_type": "markdown",
   "id": "37395788",
   "metadata": {
    "papermill": {
     "duration": 0.044869,
     "end_time": "2023-08-30T22:38:47.511702",
     "exception": false,
     "start_time": "2023-08-30T22:38:47.466833",
     "status": "completed"
    },
    "tags": []
   },
   "source": [
    "<a id=\"basic\"></a>\n",
    "## <b><span style='color:darkturquoise'>Step 4.1.1.1 |</span><span style='color:royalblue'> reservation_status</span></b>"
   ]
  },
  {
   "cell_type": "markdown",
   "id": "bdc8bde3",
   "metadata": {
    "papermill": {
     "duration": 0.044444,
     "end_time": "2023-08-30T22:38:47.601650",
     "exception": false,
     "start_time": "2023-08-30T22:38:47.557206",
     "status": "completed"
    },
    "tags": []
   },
   "source": [
    "<div style=\"border-radius:10px; padding: 15px; background-color: #d1d1ed; font-size:115%; text-align:left\">\n",
    "\n",
    "`reservation_status` is a categorical feature that indicates the current status of a reservation. It can have values like '__Canceled__', '__Check-Out__', and '__No-Show__'. This feature is directly related to the target variable `is_canceled` for the following reasons:\n",
    "\n",
    "- If the `reservation_status` is '__Canceled__', it implies that `is_canceled` should be 1.\n",
    "\n",
    "    \n",
    "- Similarly, if the `reservation_status` is '__Check-Out__', it implies that the booking was not canceled, and hence `is_canceled` should be 0.\n",
    "\n",
    "Therefore, knowing the `reservation_status` directly gives us the value of the target variable, leading to data leakage if it is used as a feature in the model. So, it is important to remove this feature to build a model that can actually predict cancellations. Therefore, `reservation_status` is considered as an irrelevant feature and should be omitted.\n"
   ]
  },
  {
   "cell_type": "code",
   "execution_count": 9,
   "id": "d0b87c14",
   "metadata": {
    "execution": {
     "iopub.execute_input": "2023-08-30T22:38:47.693597Z",
     "iopub.status.busy": "2023-08-30T22:38:47.692883Z",
     "iopub.status.idle": "2023-08-30T22:38:48.234352Z",
     "shell.execute_reply": "2023-08-30T22:38:48.233217Z"
    },
    "papermill": {
     "duration": 0.590332,
     "end_time": "2023-08-30T22:38:48.236697",
     "exception": false,
     "start_time": "2023-08-30T22:38:47.646365",
     "status": "completed"
    },
    "tags": []
   },
   "outputs": [
    {
     "data": {
      "image/png": "[encoded data removed]",
      "text/plain": [
       "<Figure size 1000x500 with 1 Axes>"
      ]
     },
     "metadata": {},
     "output_type": "display_data"
    }
   ],
   "source": [
    "# Bivariate bar plot of 'is_canceled' vs 'reservation_status' with specified colors\n",
    "plt.figure(figsize=(10, 5))\n",
    "sns.countplot(x='reservation_status', hue='is_canceled', data=df, palette=['darkturquoise', 'royalblue'])\n",
    "plt.title('Count of Cancellations by Reservation Status')\n",
    "plt.xlabel('Reservation Status')\n",
    "plt.ylabel('Count')\n",
    "plt.legend(title='Is Canceled', labels=['Not Canceled', 'Canceled'])\n",
    "plt.show()"
   ]
  },
  {
   "cell_type": "code",
   "execution_count": 10,
   "id": "4306df51",
   "metadata": {
    "execution": {
     "iopub.execute_input": "2023-08-30T22:38:48.334667Z",
     "iopub.status.busy": "2023-08-30T22:38:48.334190Z",
     "iopub.status.idle": "2023-08-30T22:38:48.358720Z",
     "shell.execute_reply": "2023-08-30T22:38:48.357569Z"
    },
    "papermill": {
     "duration": 0.078778,
     "end_time": "2023-08-30T22:38:48.361211",
     "exception": false,
     "start_time": "2023-08-30T22:38:48.282433",
     "status": "completed"
    },
    "tags": []
   },
   "outputs": [
    {
     "data": {
      "text/plain": [
       "reservation_status\n",
       "Canceled     1.0\n",
       "Check-Out    0.0\n",
       "No-Show      1.0\n",
       "Name: is_canceled, dtype: float64"
      ]
     },
     "execution_count": 10,
     "metadata": {},
     "output_type": "execute_result"
    }
   ],
   "source": [
    "df.groupby('reservation_status')['is_canceled'].mean()"
   ]
  },
  {
   "cell_type": "markdown",
   "id": "a86a7556",
   "metadata": {
    "papermill": {
     "duration": 0.045244,
     "end_time": "2023-08-30T22:38:48.451949",
     "exception": false,
     "start_time": "2023-08-30T22:38:48.406705",
     "status": "completed"
    },
    "tags": []
   },
   "source": [
    "<div style=\"border-radius:10px; padding: 15px; background-color: #d1d1ed; font-size:115%; text-align:left\">\n",
    "<h3 align=\"left\"><font color=royalblue>Inference:</font></h3>\n",
    "    \n",
    "It is clear from the plot that all the bookings with a reservation_status of \"__Canceled__\" or \"__No-Show__\" are indeed canceled (__`is_canceled`= 1__), and all the bookings with a reservation_status of \"__Check-Out__\" are not canceled (__`is_canceled` = 0__).\n",
    "\n",
    "This confirms that the `reservation_status` feature is directly related to the `is_canceled` target variable and including it in the model would cause __data leakage__. Therefore, it is essential to remove the reservation_status feature before training the model."
   ]
  },
  {
   "cell_type": "code",
   "execution_count": 11,
   "id": "6e697d97",
   "metadata": {
    "execution": {
     "iopub.execute_input": "2023-08-30T22:38:48.545871Z",
     "iopub.status.busy": "2023-08-30T22:38:48.545169Z",
     "iopub.status.idle": "2023-08-30T22:38:48.579014Z",
     "shell.execute_reply": "2023-08-30T22:38:48.577813Z"
    },
    "papermill": {
     "duration": 0.084254,
     "end_time": "2023-08-30T22:38:48.581899",
     "exception": false,
     "start_time": "2023-08-30T22:38:48.497645",
     "status": "completed"
    },
    "tags": []
   },
   "outputs": [],
   "source": [
    "# Drop the `reservation_status` feature\n",
    "df = df.drop(['reservation_status'], axis=1)"
   ]
  },
  {
   "cell_type": "markdown",
   "id": "344abba5",
   "metadata": {
    "papermill": {
     "duration": 0.045166,
     "end_time": "2023-08-30T22:38:48.673046",
     "exception": false,
     "start_time": "2023-08-30T22:38:48.627880",
     "status": "completed"
    },
    "tags": []
   },
   "source": [
    "<a id=\"basic\"></a>\n",
    "## <b><span style='color:darkturquoise'>Step 4.1.1.2 |</span><span style='color:royalblue'> reservation_status_date</span></b>"
   ]
  },
  {
   "cell_type": "markdown",
   "id": "4a277e54",
   "metadata": {
    "papermill": {
     "duration": 0.047042,
     "end_time": "2023-08-30T22:38:48.766329",
     "exception": false,
     "start_time": "2023-08-30T22:38:48.719287",
     "status": "completed"
    },
    "tags": []
   },
   "source": [
    "<div style=\"border-radius:10px; padding: 15px; background-color: #d1d1ed; font-size:115%; text-align:left\">\n",
    "\n",
    "`reservation_status_date` is a date feature that indicates the latest date at which the `reservation_status` was updated. This feature is directly related to the target variable `is_canceled` for the following reasons:\n",
    "\n",
    "- If a booking was canceled, the `reservation_status_date` would be the date on which the booking was canceled, implying that `is_canceled` should be 1.\n",
    "\n",
    "    \n",
    "- On the other hand, if a booking was not canceled, the `reservation_status_date` would reflect the date of check-out, implying that `is_canceled` should be 0.\n",
    "\n",
    "Therefore, the `reservation_status_date` can indirectly give us information about the value of the target variable, leading to data leakage if it is used as a feature in the model. \n",
    "\n",
    "Let's investigate it precisely:"
   ]
  },
  {
   "cell_type": "markdown",
   "id": "bce6268f",
   "metadata": {
    "papermill": {
     "duration": 0.046051,
     "end_time": "2023-08-30T22:38:48.857934",
     "exception": false,
     "start_time": "2023-08-30T22:38:48.811883",
     "status": "completed"
    },
    "tags": []
   },
   "source": [
    "<div style=\"border-radius:10px; padding: 15px; background-color: #d1d1ed; font-size:115%; text-align:left\">\n",
    "\n",
    "The `reservation_status_date` column is a date variable that represents the date of the last reservation status. Since it is a date, it will likely be in a '__YYYY-MM-DD__' format. We can extract some useful information from it:\n",
    "    \n",
    "* __Days_Difference__: Calculate the difference in days between the `reservation_status_date` and the `arrival_date` to create a new feature representing the number of days between the last reservation status and the arrival date."
   ]
  },
  {
   "cell_type": "code",
   "execution_count": 12,
   "id": "4820e1b8",
   "metadata": {
    "execution": {
     "iopub.execute_input": "2023-08-30T22:38:48.954519Z",
     "iopub.status.busy": "2023-08-30T22:38:48.953876Z",
     "iopub.status.idle": "2023-08-30T22:38:49.396807Z",
     "shell.execute_reply": "2023-08-30T22:38:49.395687Z"
    },
    "papermill": {
     "duration": 0.495249,
     "end_time": "2023-08-30T22:38:49.399337",
     "exception": false,
     "start_time": "2023-08-30T22:38:48.904088",
     "status": "completed"
    },
    "tags": []
   },
   "outputs": [
    {
     "data": {
      "text/html": [
       "<div>\n",
       "<style scoped>\n",
       "    .dataframe tbody tr th:only-of-type {\n",
       "        vertical-align: middle;\n",
       "    }\n",
       "\n",
       "    .dataframe tbody tr th {\n",
       "        vertical-align: top;\n",
       "    }\n",
       "\n",
       "    .dataframe thead th {\n",
       "        text-align: right;\n",
       "    }\n",
       "</style>\n",
       "<table border=\"1\" class=\"dataframe\">\n",
       "  <thead>\n",
       "    <tr style=\"text-align: right;\">\n",
       "      <th></th>\n",
       "      <th>reservation_status_days_difference</th>\n",
       "    </tr>\n",
       "  </thead>\n",
       "  <tbody>\n",
       "    <tr>\n",
       "      <th>0</th>\n",
       "      <td>0</td>\n",
       "    </tr>\n",
       "    <tr>\n",
       "      <th>1</th>\n",
       "      <td>0</td>\n",
       "    </tr>\n",
       "    <tr>\n",
       "      <th>2</th>\n",
       "      <td>1</td>\n",
       "    </tr>\n",
       "    <tr>\n",
       "      <th>3</th>\n",
       "      <td>1</td>\n",
       "    </tr>\n",
       "    <tr>\n",
       "      <th>4</th>\n",
       "      <td>2</td>\n",
       "    </tr>\n",
       "  </tbody>\n",
       "</table>\n",
       "</div>"
      ],
      "text/plain": [
       "   reservation_status_days_difference\n",
       "0                                   0\n",
       "1                                   0\n",
       "2                                   1\n",
       "3                                   1\n",
       "4                                   2"
      ]
     },
     "execution_count": 12,
     "metadata": {},
     "output_type": "execute_result"
    }
   ],
   "source": [
    "# Convert 'reservation_status_date' to datetime format\n",
    "df['reservation_status_date'] = pd.to_datetime(df['reservation_status_date'])\n",
    "\n",
    "# Extract Days_Difference from 'reservation_status_date'\n",
    "df['reservation_status_days_difference'] = (df['reservation_status_date'] - pd.to_datetime(df['arrival_date_year'].astype(str) + '-' + df['arrival_date_month'] + '-' + df['arrival_date_day_of_month'].astype(str))).dt.days\n",
    "\n",
    "df[['reservation_status_days_difference']].head()"
   ]
  },
  {
   "cell_type": "code",
   "execution_count": 13,
   "id": "3d886b77",
   "metadata": {
    "execution": {
     "iopub.execute_input": "2023-08-30T22:38:49.493109Z",
     "iopub.status.busy": "2023-08-30T22:38:49.492686Z",
     "iopub.status.idle": "2023-08-30T22:38:50.037963Z",
     "shell.execute_reply": "2023-08-30T22:38:50.036701Z"
    },
    "papermill": {
     "duration": 0.59562,
     "end_time": "2023-08-30T22:38:50.040614",
     "exception": false,
     "start_time": "2023-08-30T22:38:49.444994",
     "status": "completed"
    },
    "tags": []
   },
   "outputs": [
    {
     "data": {
      "image/png": "[encoded data removed]",
      "text/plain": [
       "<Figure size 1200x400 with 1 Axes>"
      ]
     },
     "metadata": {},
     "output_type": "display_data"
    }
   ],
   "source": [
    "plt.figure(figsize=(12, 4))\n",
    "sns.histplot(data=df, x=\"reservation_status_days_difference\", hue=\"is_canceled\", element=\"step\", stat=\"density\", common_norm=False)\n",
    "plt.title('Density Distribution of reservation_status_days_difference by is_canceled')\n",
    "plt.show()"
   ]
  },
  {
   "cell_type": "code",
   "execution_count": 14,
   "id": "23a4ea4e",
   "metadata": {
    "execution": {
     "iopub.execute_input": "2023-08-30T22:38:50.136386Z",
     "iopub.status.busy": "2023-08-30T22:38:50.136001Z",
     "iopub.status.idle": "2023-08-30T22:38:50.188367Z",
     "shell.execute_reply": "2023-08-30T22:38:50.186818Z"
    },
    "papermill": {
     "duration": 0.10347,
     "end_time": "2023-08-30T22:38:50.190990",
     "exception": false,
     "start_time": "2023-08-30T22:38:50.087520",
     "status": "completed"
    },
    "tags": []
   },
   "outputs": [
    {
     "name": "stdout",
     "output_type": "stream",
     "text": [
      "Distribution of 'is_canceled' when 'reservation_status_days_difference' is positive:\n",
      "\n",
      "0    74460\n",
      "Name: is_canceled, dtype: int64\n",
      "\n",
      "-------------------------------------------------------------------------------------\n",
      "\n",
      "Distribution of 'is_canceled' when 'reservation_status_days_difference' is negative:\n",
      "\n",
      "1    42137\n",
      "Name: is_canceled, dtype: int64\n"
     ]
    }
   ],
   "source": [
    "# For positive values of reservation_status_days_difference\n",
    "print(\"Distribution of 'is_canceled' when 'reservation_status_days_difference' is positive:\\n\")\n",
    "print(df[df['reservation_status_days_difference'] > 0]['is_canceled'].value_counts())\n",
    "\n",
    "# For negative values of reservation_status_days_difference\n",
    "print(\"\\n\" + \"-\"*85)\n",
    "print(\"\\nDistribution of 'is_canceled' when 'reservation_status_days_difference' is negative:\\n\")\n",
    "print(df[df['reservation_status_days_difference'] < 0]['is_canceled'].value_counts())"
   ]
  },
  {
   "cell_type": "markdown",
   "id": "7bed28c4",
   "metadata": {
    "papermill": {
     "duration": 0.046403,
     "end_time": "2023-08-30T22:38:50.283892",
     "exception": false,
     "start_time": "2023-08-30T22:38:50.237489",
     "status": "completed"
    },
    "tags": []
   },
   "source": [
    "<div style=\"border-radius:10px; padding: 15px; background-color: #d1d1ed; font-size:115%; text-align:left\">\n",
    "<h3 align=\"left\"><font color=royalblue>Inference:</font></h3>\n",
    "    \n",
    "The `reservation_status_days_difference` feature represents the number of days between the arrival date and the date at which the reservation status was last updated.\n",
    "\n",
    "- __Positive values__ indicate that the reservation status was updated after the arrival date. Since `is_canceled` is always 0 for these rows, it suggests that these bookings were not canceled and the reservation status was updated (e.g., to '__Check-Out__') after the guest arrived.\n",
    "\n",
    "    \n",
    "- __Negative values__ indicate that the reservation status was updated before the arrival date. Since `is_canceled` is always 1 for these rows, it suggests that these bookings were canceled before the arrival date.\n",
    "\n",
    "This shows a clear relationship between the `reservation_status_days_difference` and the `is_canceled` feature. If a booking is canceled, the reservation status is usually updated before the arrival date. Conversely, if a booking is not canceled, the reservation status is usually updated after the arrival date. \n",
    "\n",
    "____\n",
    "    \n",
    "Therefore, it is advisable to omit both the `reservation_status_date` and the `reservation_status_days_difference` features from the model. The latter was derived from the former, and both lead to data leakage, which could result in a model that does not generalize well to new data:"
   ]
  },
  {
   "cell_type": "code",
   "execution_count": 15,
   "id": "d9c24c1c",
   "metadata": {
    "execution": {
     "iopub.execute_input": "2023-08-30T22:38:50.379158Z",
     "iopub.status.busy": "2023-08-30T22:38:50.378730Z",
     "iopub.status.idle": "2023-08-30T22:38:50.411752Z",
     "shell.execute_reply": "2023-08-30T22:38:50.410446Z"
    },
    "papermill": {
     "duration": 0.083655,
     "end_time": "2023-08-30T22:38:50.414435",
     "exception": false,
     "start_time": "2023-08-30T22:38:50.330780",
     "status": "completed"
    },
    "tags": []
   },
   "outputs": [],
   "source": [
    "# Drop the 'reservation_status_date' and 'reservation_status_days_difference' columns\n",
    "df = df.drop(['reservation_status_date', 'reservation_status_days_difference'], axis=1)"
   ]
  },
  {
   "cell_type": "markdown",
   "id": "a6325dc4",
   "metadata": {
    "papermill": {
     "duration": 0.046899,
     "end_time": "2023-08-30T22:38:50.508169",
     "exception": false,
     "start_time": "2023-08-30T22:38:50.461270",
     "status": "completed"
    },
    "tags": []
   },
   "source": [
    "<a id=\"basic\"></a>\n",
    "## <b><span style='color:darkturquoise'>Step 4.1.1.3 |</span><span style='color:royalblue'> assigned_room_type</span></b>"
   ]
  },
  {
   "cell_type": "markdown",
   "id": "31c34d5b",
   "metadata": {
    "papermill": {
     "duration": 0.045878,
     "end_time": "2023-08-30T22:38:50.600299",
     "exception": false,
     "start_time": "2023-08-30T22:38:50.554421",
     "status": "completed"
    },
    "tags": []
   },
   "source": [
    "<div style=\"border-radius:10px; padding: 15px; background-color: #d1d1ed; font-size:115%; text-align:left\">\n",
    "\n",
    "The `assigned_room_type` feature represents the type of room assigned to the guest. It is assigned after the booking is made, so it cannot be used to predict cancellations. Therefore, `assigned_room_type` is considered as an irrelevant feature and should be omitted:"
   ]
  },
  {
   "cell_type": "code",
   "execution_count": 16,
   "id": "246fa5c2",
   "metadata": {
    "execution": {
     "iopub.execute_input": "2023-08-30T22:38:50.695226Z",
     "iopub.status.busy": "2023-08-30T22:38:50.694855Z",
     "iopub.status.idle": "2023-08-30T22:38:50.725109Z",
     "shell.execute_reply": "2023-08-30T22:38:50.723922Z"
    },
    "papermill": {
     "duration": 0.081356,
     "end_time": "2023-08-30T22:38:50.728087",
     "exception": false,
     "start_time": "2023-08-30T22:38:50.646731",
     "status": "completed"
    },
    "tags": []
   },
   "outputs": [],
   "source": [
    "df = df.drop(['assigned_room_type'], axis=1)"
   ]
  },
  {
   "cell_type": "markdown",
   "id": "d0d5c826",
   "metadata": {
    "papermill": {
     "duration": 0.045957,
     "end_time": "2023-08-30T22:38:50.821035",
     "exception": false,
     "start_time": "2023-08-30T22:38:50.775078",
     "status": "completed"
    },
    "tags": []
   },
   "source": [
    "<a id=\"irrelevant\"></a>\n",
    "## <b><span style='color:darkturquoise'>Step 4.1.2 |</span><span style='color:royalblue'> Drop Irrelevant Features</span></b>"
   ]
  },
  {
   "cell_type": "markdown",
   "id": "ac4aa7be",
   "metadata": {
    "papermill": {
     "duration": 0.046535,
     "end_time": "2023-08-30T22:38:50.913849",
     "exception": false,
     "start_time": "2023-08-30T22:38:50.867314",
     "status": "completed"
    },
    "tags": []
   },
   "source": [
    "<div style=\"border-radius:10px; padding: 15px; background-color: #d1d1ed; font-size:115%; text-align:left\">\n",
    "\n",
    "The `arrival_date_year` feature only includes a few years, and if we want to build a model that generalizes well to future data, it is advisable not to include features that could bias the model towards specific years. Therefore, it is reasonable to consider `arrival_date_year` as an irrelevant feature and it should be omitted."
   ]
  },
  {
   "cell_type": "code",
   "execution_count": 17,
   "id": "94dfad85",
   "metadata": {
    "execution": {
     "iopub.execute_input": "2023-08-30T22:38:51.011144Z",
     "iopub.status.busy": "2023-08-30T22:38:51.010155Z",
     "iopub.status.idle": "2023-08-30T22:38:51.019694Z",
     "shell.execute_reply": "2023-08-30T22:38:51.018868Z"
    },
    "papermill": {
     "duration": 0.05941,
     "end_time": "2023-08-30T22:38:51.021794",
     "exception": false,
     "start_time": "2023-08-30T22:38:50.962384",
     "status": "completed"
    },
    "tags": []
   },
   "outputs": [
    {
     "data": {
      "text/plain": [
       "2016    56707\n",
       "2017    40687\n",
       "2015    21996\n",
       "Name: arrival_date_year, dtype: int64"
      ]
     },
     "execution_count": 17,
     "metadata": {},
     "output_type": "execute_result"
    }
   ],
   "source": [
    "df['arrival_date_year'].value_counts()\n"
   ]
  },
  {
   "cell_type": "code",
   "execution_count": 18,
   "id": "16ec9fbe",
   "metadata": {
    "execution": {
     "iopub.execute_input": "2023-08-30T22:38:51.116957Z",
     "iopub.status.busy": "2023-08-30T22:38:51.116524Z",
     "iopub.status.idle": "2023-08-30T22:38:51.145894Z",
     "shell.execute_reply": "2023-08-30T22:38:51.144749Z"
    },
    "papermill": {
     "duration": 0.080166,
     "end_time": "2023-08-30T22:38:51.148524",
     "exception": false,
     "start_time": "2023-08-30T22:38:51.068358",
     "status": "completed"
    },
    "tags": []
   },
   "outputs": [],
   "source": [
    "# Drop the `arrival_date_year` feature\n",
    "df = df.drop(['arrival_date_year'], axis=1)"
   ]
  },
  {
   "cell_type": "markdown",
   "id": "646961c7",
   "metadata": {
    "papermill": {
     "duration": 0.046199,
     "end_time": "2023-08-30T22:38:51.241199",
     "exception": false,
     "start_time": "2023-08-30T22:38:51.195000",
     "status": "completed"
    },
    "tags": []
   },
   "source": [
    "<a id=\"cardinality\"></a>\n",
    "## <b><span style='color:darkturquoise'>Step 4.1.3 |</span><span style='color:royalblue'> Engineer and Drop High-Cardinality Features</span></b>"
   ]
  },
  {
   "cell_type": "markdown",
   "id": "9a306b0d",
   "metadata": {
    "papermill": {
     "duration": 0.04637,
     "end_time": "2023-08-30T22:38:51.334088",
     "exception": false,
     "start_time": "2023-08-30T22:38:51.287718",
     "status": "completed"
    },
    "tags": []
   },
   "source": [
    "<div style=\"border-radius:10px; padding: 15px; background-color: #d1d1ed; font-size:115%; text-align:left\">\n",
    "\n",
    "Based on our findings regarding the features of the dataset from the previous steps, there are a number of categorical features which, due to the large number of categories (high cardinality), probably do not have specific information for the model and should be considered as irrelevant features and should be deleted. However, before that, we will check whether it is possible to extract useful information from the features before droping them:"
   ]
  },
  {
   "cell_type": "code",
   "execution_count": 19,
   "id": "72d06561",
   "metadata": {
    "execution": {
     "iopub.execute_input": "2023-08-30T22:38:51.429139Z",
     "iopub.status.busy": "2023-08-30T22:38:51.428756Z",
     "iopub.status.idle": "2023-08-30T22:38:51.791322Z",
     "shell.execute_reply": "2023-08-30T22:38:51.790212Z"
    },
    "papermill": {
     "duration": 0.413155,
     "end_time": "2023-08-30T22:38:51.793822",
     "exception": false,
     "start_time": "2023-08-30T22:38:51.380667",
     "status": "completed"
    },
    "tags": []
   },
   "outputs": [
    {
     "data": {
      "text/html": [
       "<div>\n",
       "<style scoped>\n",
       "    .dataframe tbody tr th:only-of-type {\n",
       "        vertical-align: middle;\n",
       "    }\n",
       "\n",
       "    .dataframe tbody tr th {\n",
       "        vertical-align: top;\n",
       "    }\n",
       "\n",
       "    .dataframe thead th {\n",
       "        text-align: right;\n",
       "    }\n",
       "</style>\n",
       "<table border=\"1\" class=\"dataframe\">\n",
       "  <thead>\n",
       "    <tr style=\"text-align: right;\">\n",
       "      <th></th>\n",
       "      <th>Unique_Categories</th>\n",
       "      <th>Missing_Values</th>\n",
       "    </tr>\n",
       "  </thead>\n",
       "  <tbody>\n",
       "    <tr>\n",
       "      <th>country</th>\n",
       "      <td>177</td>\n",
       "      <td>488</td>\n",
       "    </tr>\n",
       "    <tr>\n",
       "      <th>agent</th>\n",
       "      <td>333</td>\n",
       "      <td>16340</td>\n",
       "    </tr>\n",
       "    <tr>\n",
       "      <th>company</th>\n",
       "      <td>352</td>\n",
       "      <td>112593</td>\n",
       "    </tr>\n",
       "    <tr>\n",
       "      <th>name</th>\n",
       "      <td>81503</td>\n",
       "      <td>0</td>\n",
       "    </tr>\n",
       "    <tr>\n",
       "      <th>email</th>\n",
       "      <td>115889</td>\n",
       "      <td>0</td>\n",
       "    </tr>\n",
       "    <tr>\n",
       "      <th>phone-number</th>\n",
       "      <td>119390</td>\n",
       "      <td>0</td>\n",
       "    </tr>\n",
       "    <tr>\n",
       "      <th>credit_card</th>\n",
       "      <td>9000</td>\n",
       "      <td>0</td>\n",
       "    </tr>\n",
       "  </tbody>\n",
       "</table>\n",
       "</div>"
      ],
      "text/plain": [
       "              Unique_Categories  Missing_Values\n",
       "country                     177             488\n",
       "agent                       333           16340\n",
       "company                     352          112593\n",
       "name                      81503               0\n",
       "email                    115889               0\n",
       "phone-number             119390               0\n",
       "credit_card                9000               0"
      ]
     },
     "execution_count": 19,
     "metadata": {},
     "output_type": "execute_result"
    }
   ],
   "source": [
    "# Create a dataframe with the number of unique categories and missing values for each high-cardinality feature\n",
    "high_cardinality_features = ['country', 'agent', 'company', 'name', 'email', 'phone-number', 'credit_card']\n",
    "unique_categories = df[high_cardinality_features].nunique()\n",
    "missing_values = df[high_cardinality_features].isnull().sum()\n",
    "\n",
    "# Combine the two series into a single dataframe\n",
    "high_cardinality_df = pd.DataFrame({'Unique_Categories': unique_categories, 'Missing_Values': missing_values})\n",
    "\n",
    "high_cardinality_df"
   ]
  },
  {
   "cell_type": "markdown",
   "id": "483488f8",
   "metadata": {
    "papermill": {
     "duration": 0.0476,
     "end_time": "2023-08-30T22:38:51.888654",
     "exception": false,
     "start_time": "2023-08-30T22:38:51.841054",
     "status": "completed"
    },
    "tags": []
   },
   "source": [
    "<div style=\"border-radius:10px; padding: 15px; background-color: #d1d1ed; font-size:115%; text-align:left\">\n",
    "\n",
    "- __`country`__:\n",
    "    - __Description__: Country of origin of the guest.\n",
    "    - __Action__: We will remove this feature for ease of work due to the large number of categories. However, one way to handle this, if needed in future work, is to group the countries into regions (e.g., North America, Europe, Asia, etc.) or to keep only the top N most frequent countries and group the rest into an 'Other' category.\n",
    "\n",
    "    \n",
    "- __`agent`__:\n",
    "    - __Description__: ID of the travel agent responsible for the booking.\n",
    "    - __Action__: This feature has several unique categories, and some agents may only appear a few times in the dataset, which could cause overfitting. We could create a new feature representing the number of bookings made by each agent and then drop the original `agent` feature. However, this new feature may not be very meaningful because the number of bookings made by an agent may not be directly related to the cancellation rate. We will omit this feature.\n",
    "\n",
    "    \n",
    "- __`company`__:\n",
    "    - __Description__: ID of the company responsible for the booking.\n",
    "    - __Action__: This feature has a high percentage of missing values and may not be very informative for predicting cancellations, so it may be better to drop it entirely.\n",
    "\n",
    "    \n",
    "- __`name`__:\n",
    "    - __Description__: Guest's name.\n",
    "    - __Action__: This feature has many unique categories and is not directly related to the cancellation rate. However, we could create a new feature representing the number of bookings made by each guest (based on the name) and then drop the original `name` feature. This new feature could be useful because repeat guests may have different cancellation behaviors than first-time guests.\n",
    "\n",
    "    \n",
    "- __`email`__:\n",
    "    - __Description__: Guest's email address.\n",
    "    - __Action__: Similar to the `name` feature, we could create a new feature representing the number of bookings made by each guest (based on the email) and then drop the original `email` feature. This new feature could capture the same information as the `name` feature, so it may be redundant to keep both. We will omit this feature.\n",
    "\n",
    "    \n",
    "- __`phone-number`__:\n",
    "    - __Description__: Guest's phone number.\n",
    "    - __Action__: This feature is like an identifier because all the rows have different `phone-number` values, so this feature has no information and we will omit this feature.\n",
    "\n",
    "    \n",
    "- __`credit_card`__:\n",
    "    - __Description__: Last four digits of the guest's credit card.\n",
    "    - __Action__: This feature may have many unique categories and is not directly related to the cancellation rate. It may be better to drop this feature entirely.\n",
    "\n",
    "In summary, the `country`, `agent`, `company`, `email`, `phone-number`, and `credit_card` features will be omitted from the model due to their high cardinality, high percentage of missing values, or lack of direct relationship with the cancellation rate (`is_canceled`). The `name` feature will be engineered to create a new feature representing the number of bookings made by each guest, and then the original `name` feature will be dropped.\n"
   ]
  },
  {
   "cell_type": "code",
   "execution_count": 20,
   "id": "3c39e938",
   "metadata": {
    "execution": {
     "iopub.execute_input": "2023-08-30T22:38:51.989571Z",
     "iopub.status.busy": "2023-08-30T22:38:51.988500Z",
     "iopub.status.idle": "2023-08-30T22:38:52.220579Z",
     "shell.execute_reply": "2023-08-30T22:38:52.219781Z"
    },
    "papermill": {
     "duration": 0.28539,
     "end_time": "2023-08-30T22:38:52.222653",
     "exception": false,
     "start_time": "2023-08-30T22:38:51.937263",
     "status": "completed"
    },
    "tags": []
   },
   "outputs": [
    {
     "data": {
      "text/html": [
       "<div>\n",
       "<style scoped>\n",
       "    .dataframe tbody tr th:only-of-type {\n",
       "        vertical-align: middle;\n",
       "    }\n",
       "\n",
       "    .dataframe tbody tr th {\n",
       "        vertical-align: top;\n",
       "    }\n",
       "\n",
       "    .dataframe thead th {\n",
       "        text-align: right;\n",
       "    }\n",
       "</style>\n",
       "<table border=\"1\" class=\"dataframe\">\n",
       "  <thead>\n",
       "    <tr style=\"text-align: right;\">\n",
       "      <th></th>\n",
       "      <th>number_of_bookings</th>\n",
       "    </tr>\n",
       "  </thead>\n",
       "  <tbody>\n",
       "    <tr>\n",
       "      <th>0</th>\n",
       "      <td>1</td>\n",
       "    </tr>\n",
       "    <tr>\n",
       "      <th>1</th>\n",
       "      <td>2</td>\n",
       "    </tr>\n",
       "    <tr>\n",
       "      <th>2</th>\n",
       "      <td>3</td>\n",
       "    </tr>\n",
       "    <tr>\n",
       "      <th>3</th>\n",
       "      <td>1</td>\n",
       "    </tr>\n",
       "    <tr>\n",
       "      <th>4</th>\n",
       "      <td>1</td>\n",
       "    </tr>\n",
       "  </tbody>\n",
       "</table>\n",
       "</div>"
      ],
      "text/plain": [
       "   number_of_bookings\n",
       "0                   1\n",
       "1                   2\n",
       "2                   3\n",
       "3                   1\n",
       "4                   1"
      ]
     },
     "execution_count": 20,
     "metadata": {},
     "output_type": "execute_result"
    }
   ],
   "source": [
    "# Feature Engineering for 'name' feature\n",
    "# Create a new feature representing the number of bookings made by each guest (based on the name)\n",
    "df['number_of_bookings'] = df.groupby('name')['name'].transform('count')\n",
    "\n",
    "# Drop the original 'name' feature and other high-cardinality features\n",
    "df = df.drop(['name', 'country', 'agent', 'company', 'email', 'phone-number', 'credit_card'], axis=1)\n",
    "\n",
    "df[['number_of_bookings']].head()"
   ]
  },
  {
   "cell_type": "markdown",
   "id": "9fbe207a",
   "metadata": {
    "papermill": {
     "duration": 0.047023,
     "end_time": "2023-08-30T22:38:52.316616",
     "exception": false,
     "start_time": "2023-08-30T22:38:52.269593",
     "status": "completed"
    },
    "tags": []
   },
   "source": [
    "<a id=\"missing\"></a>\n",
    "# <b><span style='color:darkturquoise'>Step 4.2 |</span><span style='color:royalblue'> Handle Missing Values</span></b>"
   ]
  },
  {
   "cell_type": "markdown",
   "id": "d359668d",
   "metadata": {
    "papermill": {
     "duration": 0.046661,
     "end_time": "2023-08-30T22:38:52.410161",
     "exception": false,
     "start_time": "2023-08-30T22:38:52.363500",
     "status": "completed"
    },
    "tags": []
   },
   "source": [
    "<div style=\"border-radius:10px; padding: 15px; background-color: #d1d1ed; font-size:115%; text-align:left\">\n",
    "\n",
    "I am going to analyze the missing values in each column. If a column has a high percentage of missing values, it may be better to drop the column entirely. For columns with a small percentage of missing values, we can impute the missing values with the mean, median, or mode of the column, or use more advanced imputation techniques like K-nearest neighbors imputation:"
   ]
  },
  {
   "cell_type": "code",
   "execution_count": 21,
   "id": "16c8ebc0",
   "metadata": {
    "execution": {
     "iopub.execute_input": "2023-08-30T22:38:52.506603Z",
     "iopub.status.busy": "2023-08-30T22:38:52.505851Z",
     "iopub.status.idle": "2023-08-30T22:38:52.824917Z",
     "shell.execute_reply": "2023-08-30T22:38:52.823826Z"
    },
    "papermill": {
     "duration": 0.370416,
     "end_time": "2023-08-30T22:38:52.827622",
     "exception": false,
     "start_time": "2023-08-30T22:38:52.457206",
     "status": "completed"
    },
    "tags": []
   },
   "outputs": [
    {
     "data": {
      "text/plain": [
       "children    0.00335\n",
       "dtype: float64"
      ]
     },
     "execution_count": 21,
     "metadata": {},
     "output_type": "execute_result"
    }
   ],
   "source": [
    "# Calculate the missing values percentage in the original dataset\n",
    "missing_values_percentage = (df.isnull().sum() / len(df)) * 100\n",
    "missing_values_percentage[missing_values_percentage > 0]"
   ]
  },
  {
   "cell_type": "markdown",
   "id": "b2e21271",
   "metadata": {
    "papermill": {
     "duration": 0.047938,
     "end_time": "2023-08-30T22:38:52.924342",
     "exception": false,
     "start_time": "2023-08-30T22:38:52.876404",
     "status": "completed"
    },
    "tags": []
   },
   "source": [
    "<div style=\"border-radius:10px; padding: 15px; background-color: #d1d1ed; font-size:115%; text-align:left\">\n",
    "<h2 align=\"left\"><font color=royalblue>Inference:</font></h2>\n",
    "    \n",
    "The `children` feature has a very low percentage of missing values (0.003350%) and is a numerical feature. Given the distribution of values in the children column, the majority of bookings have 0 children, which is a strong mode. Therefore, it would be reasonable to impute the missing values with 0 (the mode of the column). This approach is simple and will not introduce significant bias:"
   ]
  },
  {
   "cell_type": "code",
   "execution_count": 22,
   "id": "f0d4da2f",
   "metadata": {
    "execution": {
     "iopub.execute_input": "2023-08-30T22:38:53.023442Z",
     "iopub.status.busy": "2023-08-30T22:38:53.023039Z",
     "iopub.status.idle": "2023-08-30T22:38:53.034150Z",
     "shell.execute_reply": "2023-08-30T22:38:53.033051Z"
    },
    "papermill": {
     "duration": 0.062519,
     "end_time": "2023-08-30T22:38:53.036290",
     "exception": false,
     "start_time": "2023-08-30T22:38:52.973771",
     "status": "completed"
    },
    "tags": []
   },
   "outputs": [
    {
     "data": {
      "text/plain": [
       "0.0     110796\n",
       "1.0       4861\n",
       "2.0       3652\n",
       "3.0         76\n",
       "10.0         1\n",
       "Name: children, dtype: int64"
      ]
     },
     "execution_count": 22,
     "metadata": {},
     "output_type": "execute_result"
    }
   ],
   "source": [
    "df['children'].value_counts()"
   ]
  },
  {
   "cell_type": "code",
   "execution_count": 23,
   "id": "57f26ef1",
   "metadata": {
    "execution": {
     "iopub.execute_input": "2023-08-30T22:38:53.133237Z",
     "iopub.status.busy": "2023-08-30T22:38:53.132351Z",
     "iopub.status.idle": "2023-08-30T22:38:53.142186Z",
     "shell.execute_reply": "2023-08-30T22:38:53.141183Z"
    },
    "papermill": {
     "duration": 0.06076,
     "end_time": "2023-08-30T22:38:53.144507",
     "exception": false,
     "start_time": "2023-08-30T22:38:53.083747",
     "status": "completed"
    },
    "tags": []
   },
   "outputs": [
    {
     "data": {
      "text/plain": [
       "0"
      ]
     },
     "execution_count": 23,
     "metadata": {},
     "output_type": "execute_result"
    }
   ],
   "source": [
    "# Impute missing values in 'children' column with 0\n",
    "df['children'] = df['children'].fillna(0)\n",
    "\n",
    "# Check if there are any missing values left in 'children' column\n",
    "df['children'].isnull().sum()"
   ]
  },
  {
   "cell_type": "markdown",
   "id": "8788f508",
   "metadata": {
    "papermill": {
     "duration": 0.047583,
     "end_time": "2023-08-30T22:38:53.240793",
     "exception": false,
     "start_time": "2023-08-30T22:38:53.193210",
     "status": "completed"
    },
    "tags": []
   },
   "source": [
    "<a id=\"noise\"></a>\n",
    "# <b><span style='color:darkturquoise'>Step 4.3 |</span><span style='color:royalblue'> Handle Noisy Data</span></b>"
   ]
  },
  {
   "cell_type": "markdown",
   "id": "d97aeae9",
   "metadata": {
    "papermill": {
     "duration": 0.047754,
     "end_time": "2023-08-30T22:38:53.336138",
     "exception": false,
     "start_time": "2023-08-30T22:38:53.288384",
     "status": "completed"
    },
    "tags": []
   },
   "source": [
    "<div style=\"border-radius:10px; padding: 15px; background-color: #d1d1ed; font-size:115%; text-align:left\">\n",
    "\n",
    "Now let's analyze and handle the __noisy data__ in the `adr`, `adults`, `children`, and `babies` columns as discussed in __step 3.2__:"
   ]
  },
  {
   "cell_type": "code",
   "execution_count": 24,
   "id": "fbdaa424",
   "metadata": {
    "execution": {
     "iopub.execute_input": "2023-08-30T22:38:53.436418Z",
     "iopub.status.busy": "2023-08-30T22:38:53.436003Z",
     "iopub.status.idle": "2023-08-30T22:38:53.450643Z",
     "shell.execute_reply": "2023-08-30T22:38:53.449616Z"
    },
    "papermill": {
     "duration": 0.066073,
     "end_time": "2023-08-30T22:38:53.453011",
     "exception": false,
     "start_time": "2023-08-30T22:38:53.386938",
     "status": "completed"
    },
    "tags": []
   },
   "outputs": [
    {
     "data": {
      "text/plain": [
       "{'adr': 1, 'adults': 403, 'children': 1, 'babies': 1}"
      ]
     },
     "execution_count": 24,
     "metadata": {},
     "output_type": "execute_result"
    }
   ],
   "source": [
    "# Analyze noisy data\n",
    "noisy_data = {\n",
    "    'adr':      df[df['adr'] < 0],\n",
    "    'adults':   df[df['adults'] == 0],\n",
    "    'children': df[df['children'] == 10],\n",
    "    'babies':   df[df['babies'] == 10],\n",
    "}\n",
    "\n",
    "noisy_data_count = {key: len(value) for key, value in noisy_data.items()}\n",
    "noisy_data_count"
   ]
  },
  {
   "cell_type": "markdown",
   "id": "d96e9dc2",
   "metadata": {
    "papermill": {
     "duration": 0.048234,
     "end_time": "2023-08-30T22:38:53.549162",
     "exception": false,
     "start_time": "2023-08-30T22:38:53.500928",
     "status": "completed"
    },
    "tags": []
   },
   "source": [
    "<div style=\"border-radius:10px; padding: 15px; background-color: #d1d1ed; font-size:115%; text-align:left\">\n",
    "<h2 align=\"left\"><font color=royalblue>Inference:</font></h2>\n",
    "\n",
    "We have identified some noisy data in the following features:\n",
    "\n",
    "- `adr`: There is __1__ booking with a negative Average Daily Rate (ADR), which doesn't make sense and indicates a potential error or special case.\n",
    "\n",
    "    \n",
    "- `adults`: There are __403__ bookings with 0 adults, which could be a data entry error unless there are legitimate cases where only children or babies book a room.\n",
    "\n",
    "    \n",
    "- `children`: There is __1__ booking with 10 children, which seems unusually high for a single booking and could be a potential outlier or data entry error.\n",
    "\n",
    "    \n",
    "- `babies`: There is __1__ booking with 10 babies, which seems unusually high for a single booking and could be a potential outlier or data entry error."
   ]
  },
  {
   "cell_type": "markdown",
   "id": "d9375919",
   "metadata": {
    "papermill": {
     "duration": 0.048535,
     "end_time": "2023-08-30T22:38:53.645688",
     "exception": false,
     "start_time": "2023-08-30T22:38:53.597153",
     "status": "completed"
    },
    "tags": []
   },
   "source": [
    "<div style=\"border-radius:10px; padding: 15px; background-color: #d1d1ed; font-size:115%; text-align:left\">\n",
    "<h3 align=\"left\"><font color=royalblue>Approach to Address Noisy Data:</font></h3>\n",
    "\n",
    "For each of these features, the best treatment would be:\n",
    "\n",
    "- `adr`: Since there is only one negative value, it would be reasonable to replace it with the median or mean of the `adr` column, as this will not significantly affect the distribution of the data.\n",
    "\n",
    "    \n",
    "- `adults`: It is unlikely that a booking would be made with 0 adults, so these 403 rows seem to be errors. Given that this is a small proportion of the dataset, it would be reasonable to remove these rows.\n",
    "\n",
    "    \n",
    "- `children`: Since there is only one booking with 10 children, it could be considered as an outlier and removed from the dataset.\n",
    "\n",
    "    \n",
    "- `babies`: Similar to the `children` column, since there is only one booking with 10 babies, it could be considered as an outlier and removed from the dataset."
   ]
  },
  {
   "cell_type": "code",
   "execution_count": 25,
   "id": "a58c93e8",
   "metadata": {
    "execution": {
     "iopub.execute_input": "2023-08-30T22:38:53.744845Z",
     "iopub.status.busy": "2023-08-30T22:38:53.744025Z",
     "iopub.status.idle": "2023-08-30T22:38:53.821704Z",
     "shell.execute_reply": "2023-08-30T22:38:53.820513Z"
    },
    "papermill": {
     "duration": 0.130203,
     "end_time": "2023-08-30T22:38:53.824145",
     "exception": false,
     "start_time": "2023-08-30T22:38:53.693942",
     "status": "completed"
    },
    "tags": []
   },
   "outputs": [
    {
     "data": {
      "text/plain": [
       "{'adr': 0, 'adults': 0, 'children': 0, 'babies': 0}"
      ]
     },
     "execution_count": 25,
     "metadata": {},
     "output_type": "execute_result"
    }
   ],
   "source": [
    "# Replace negative adr with median of adr column\n",
    "df.loc[df['adr'] < 0, 'adr'] = df['adr'].median()\n",
    "\n",
    "# Remove rows with 0 adults\n",
    "df = df[df['adults'] != 0]\n",
    "\n",
    "# Remove rows with 10 children or 10 babies\n",
    "df = df[df['children'] != 10]\n",
    "df = df[df['babies'] != 10]\n",
    "\n",
    "# Reset the index\n",
    "df.reset_index(drop=True, inplace=True)\n",
    "\n",
    "# Check if the noisy data has been handled\n",
    "noisy_data_handled = {\n",
    "    'adr': df[df['adr'] < 0],\n",
    "    'adults': df[df['adults'] == 0],\n",
    "    'children': df[df['children'] == 10],\n",
    "    'babies': df[df['babies'] == 10],\n",
    "}\n",
    "\n",
    "noisy_data_handled_count = {key: len(value) for key, value in noisy_data_handled.items()}\n",
    "noisy_data_handled_count"
   ]
  },
  {
   "cell_type": "markdown",
   "id": "10d70fc8",
   "metadata": {
    "papermill": {
     "duration": 0.04834,
     "end_time": "2023-08-30T22:38:53.920655",
     "exception": false,
     "start_time": "2023-08-30T22:38:53.872315",
     "status": "completed"
    },
    "tags": []
   },
   "source": [
    "<a id=\"encode\"></a>\n",
    "# <b><span style='color:darkturquoise'>Step 4.4 |</span><span style='color:royalblue'> Encode Categorical Variables</span></b>"
   ]
  },
  {
   "cell_type": "markdown",
   "id": "376232b7",
   "metadata": {
    "papermill": {
     "duration": 0.048816,
     "end_time": "2023-08-30T22:38:54.019568",
     "exception": false,
     "start_time": "2023-08-30T22:38:53.970752",
     "status": "completed"
    },
    "tags": []
   },
   "source": [
    "<div style=\"border-radius:10px; padding: 15px; background-color: #d1d1ed; font-size:115%; text-align:left\">\n",
    "    \n",
    "After analyzing the dataset, we can categorize the features into three groups:\n",
    "\n",
    "1. __No Encoding Needed__: These are the features that do not require any form of encoding because they are already in a numerical format that can be fed into a model.\n",
    "\n",
    "    \n",
    "2. __One-Hot Encoding__: This is required for nominal variables, which are categorical variables without any intrinsic order. One-hot encoding converts each unique value of the feature into a separate column with a 1 or 0, indicating the presence of that value. \n",
    "\n",
    "    \n",
    "3. __Label Encoding__: This is used for ordinal variables, which are categorical variables with a meaningful order. Label encoding assigns a unique integer to each category in the feature, maintaining the order of the values.\n",
    "\n",
    "By categorizing the features into these groups, we can apply the appropriate encoding method to each feature, preparing the dataset for modeling.\n"
   ]
  },
  {
   "cell_type": "code",
   "execution_count": 26,
   "id": "2cff4e1b",
   "metadata": {
    "execution": {
     "iopub.execute_input": "2023-08-30T22:38:54.117933Z",
     "iopub.status.busy": "2023-08-30T22:38:54.117295Z",
     "iopub.status.idle": "2023-08-30T22:38:54.124498Z",
     "shell.execute_reply": "2023-08-30T22:38:54.123757Z"
    },
    "papermill": {
     "duration": 0.058545,
     "end_time": "2023-08-30T22:38:54.126570",
     "exception": false,
     "start_time": "2023-08-30T22:38:54.068025",
     "status": "completed"
    },
    "tags": []
   },
   "outputs": [
    {
     "data": {
      "text/plain": [
       "hotel                              object\n",
       "is_canceled                         int64\n",
       "lead_time                           int64\n",
       "arrival_date_month                 object\n",
       "arrival_date_week_number            int64\n",
       "arrival_date_day_of_month           int64\n",
       "stays_in_weekend_nights             int64\n",
       "stays_in_week_nights                int64\n",
       "adults                              int64\n",
       "children                          float64\n",
       "babies                              int64\n",
       "meal                               object\n",
       "market_segment                     object\n",
       "distribution_channel               object\n",
       "is_repeated_guest                   int64\n",
       "previous_cancellations              int64\n",
       "previous_bookings_not_canceled      int64\n",
       "reserved_room_type                 object\n",
       "booking_changes                     int64\n",
       "deposit_type                       object\n",
       "days_in_waiting_list                int64\n",
       "customer_type                      object\n",
       "adr                               float64\n",
       "required_car_parking_spaces         int64\n",
       "total_of_special_requests           int64\n",
       "number_of_bookings                  int64\n",
       "dtype: object"
      ]
     },
     "execution_count": 26,
     "metadata": {},
     "output_type": "execute_result"
    }
   ],
   "source": [
    "df.dtypes"
   ]
  },
  {
   "cell_type": "markdown",
   "id": "0f30d4dc",
   "metadata": {
    "papermill": {
     "duration": 0.047829,
     "end_time": "2023-08-30T22:38:54.222430",
     "exception": false,
     "start_time": "2023-08-30T22:38:54.174601",
     "status": "completed"
    },
    "tags": []
   },
   "source": [
    "<div style=\"border-radius:10px; padding: 15px; background-color: #d1d1ed; font-size:115%; text-align:left\">\n",
    "\n",
    "<h3 align=\"left\"><font color=royalblue>No Encoding Needed:</font></h3>\n",
    "\n",
    "The following features do not require any encoding as they are either numerical, binary, or ordinal variables that have already been encoded as numbers:\n",
    "\n",
    "- `is_canceled`: This is the target variable and is binary.\n",
    "- `lead_time`: This is a numerical variable.\n",
    "- `arrival_date_week_number`: This is a numerical variable.\n",
    "- `arrival_date_day_of_month`: This is a numerical variable.\n",
    "- `stays_in_weekend_nights`: This is a numerical variable.\n",
    "- `stays_in_week_nights`: This is a numerical variable.\n",
    "- `adults`: This is a numerical variable.\n",
    "- `children`: This is a numerical variable.\n",
    "- `babies`: This is a numerical variable.\n",
    "- `is_repeated_guest`: This is a binary variable.\n",
    "- `previous_cancellations`: This is a numerical variable.\n",
    "- `previous_bookings_not_canceled`: This is a numerical variable.\n",
    "- `booking_changes`: This is a numerical variable.\n",
    "- `days_in_waiting_list`: This is a numerical variable.\n",
    "- `adr`: This is a numerical variable.\n",
    "- `required_car_parking_spaces`: This is a numerical variable.\n",
    "- `total_of_special_requests`: This is a numerical variable.\n",
    "- `number_of_bookings`: This is a numerical variable.\n",
    "\n",
    "<h3 align=\"left\"><font color=royalblue>One-Hot Encoding:</font></h3>\n",
    "\n",
    "The following features are nominal variables and should be one-hot encoded:\n",
    "\n",
    "- `hotel`: This is a nominal variable with two categories.\n",
    "- `meal`: This is a nominal variable.\n",
    "- `market_segment`: This is a nominal variable.\n",
    "- `distribution_channel`: This is a nominal variable.\n",
    "- `reserved_room_type`: This is a nominal variable.\n",
    "- `deposit_type`: This is a nominal variable.\n",
    "- `customer_type`: This is a nominal variable.\n",
    "\n",
    "<h3 align=\"left\"><font color=royalblue>Label Encoding:</font></h3>    \n",
    "\n",
    "The following feature is an ordinal variable and should be label encoded:\n",
    "\n",
    "- `arrival_date_month`: This is an ordinal variable (months have a natural order).\n"
   ]
  },
  {
   "cell_type": "code",
   "execution_count": 27,
   "id": "82424ec0",
   "metadata": {
    "execution": {
     "iopub.execute_input": "2023-08-30T22:38:54.320698Z",
     "iopub.status.busy": "2023-08-30T22:38:54.320073Z",
     "iopub.status.idle": "2023-08-30T22:38:54.609036Z",
     "shell.execute_reply": "2023-08-30T22:38:54.607158Z"
    },
    "papermill": {
     "duration": 0.341267,
     "end_time": "2023-08-30T22:38:54.611627",
     "exception": false,
     "start_time": "2023-08-30T22:38:54.270360",
     "status": "completed"
    },
    "tags": []
   },
   "outputs": [
    {
     "name": "stdout",
     "output_type": "stream",
     "text": [
      "<class 'pandas.core.frame.DataFrame'>\n",
      "RangeIndex: 118985 entries, 0 to 118984\n",
      "Data columns (total 48 columns):\n",
      " #   Column                          Non-Null Count   Dtype  \n",
      "---  ------                          --------------   -----  \n",
      " 0   is_canceled                     118985 non-null  int64  \n",
      " 1   lead_time                       118985 non-null  int64  \n",
      " 2   arrival_date_month              118985 non-null  int64  \n",
      " 3   arrival_date_week_number        118985 non-null  int64  \n",
      " 4   arrival_date_day_of_month       118985 non-null  int64  \n",
      " 5   stays_in_weekend_nights         118985 non-null  int64  \n",
      " 6   stays_in_week_nights            118985 non-null  int64  \n",
      " 7   adults                          118985 non-null  int64  \n",
      " 8   children                        118985 non-null  float64\n",
      " 9   babies                          118985 non-null  int64  \n",
      " 10  is_repeated_guest               118985 non-null  int64  \n",
      " 11  previous_cancellations          118985 non-null  int64  \n",
      " 12  previous_bookings_not_canceled  118985 non-null  int64  \n",
      " 13  booking_changes                 118985 non-null  int64  \n",
      " 14  days_in_waiting_list            118985 non-null  int64  \n",
      " 15  adr                             118985 non-null  float64\n",
      " 16  required_car_parking_spaces     118985 non-null  int64  \n",
      " 17  total_of_special_requests       118985 non-null  int64  \n",
      " 18  number_of_bookings              118985 non-null  int64  \n",
      " 19  hotel_Resort Hotel              118985 non-null  uint8  \n",
      " 20  meal_FB                         118985 non-null  uint8  \n",
      " 21  meal_HB                         118985 non-null  uint8  \n",
      " 22  meal_SC                         118985 non-null  uint8  \n",
      " 23  meal_Undefined                  118985 non-null  uint8  \n",
      " 24  market_segment_Complementary    118985 non-null  uint8  \n",
      " 25  market_segment_Corporate        118985 non-null  uint8  \n",
      " 26  market_segment_Direct           118985 non-null  uint8  \n",
      " 27  market_segment_Groups           118985 non-null  uint8  \n",
      " 28  market_segment_Offline TA/TO    118985 non-null  uint8  \n",
      " 29  market_segment_Online TA        118985 non-null  uint8  \n",
      " 30  market_segment_Undefined        118985 non-null  uint8  \n",
      " 31  distribution_channel_Direct     118985 non-null  uint8  \n",
      " 32  distribution_channel_GDS        118985 non-null  uint8  \n",
      " 33  distribution_channel_TA/TO      118985 non-null  uint8  \n",
      " 34  distribution_channel_Undefined  118985 non-null  uint8  \n",
      " 35  reserved_room_type_B            118985 non-null  uint8  \n",
      " 36  reserved_room_type_C            118985 non-null  uint8  \n",
      " 37  reserved_room_type_D            118985 non-null  uint8  \n",
      " 38  reserved_room_type_E            118985 non-null  uint8  \n",
      " 39  reserved_room_type_F            118985 non-null  uint8  \n",
      " 40  reserved_room_type_G            118985 non-null  uint8  \n",
      " 41  reserved_room_type_H            118985 non-null  uint8  \n",
      " 42  reserved_room_type_L            118985 non-null  uint8  \n",
      " 43  deposit_type_Non Refund         118985 non-null  uint8  \n",
      " 44  deposit_type_Refundable         118985 non-null  uint8  \n",
      " 45  customer_type_Group             118985 non-null  uint8  \n",
      " 46  customer_type_Transient         118985 non-null  uint8  \n",
      " 47  customer_type_Transient-Party   118985 non-null  uint8  \n",
      "dtypes: float64(2), int64(17), uint8(29)\n",
      "memory usage: 20.5 MB\n"
     ]
    }
   ],
   "source": [
    "# Convert 'arrival_date_month' to numerical values\n",
    "months = ['January', 'February', 'March', 'April', 'May', 'June', 'July', 'August', 'September', 'October', 'November', 'December']\n",
    "df['arrival_date_month'] = df['arrival_date_month'].apply(lambda x: months.index(x) + 1)\n",
    "\n",
    "# One-hot encode the specified columns\n",
    "one_hot_cols = ['hotel', 'meal', 'market_segment', 'distribution_channel', 'reserved_room_type', 'deposit_type', 'customer_type']\n",
    "df = pd.get_dummies(df, columns=one_hot_cols, drop_first=True)\n",
    "\n",
    "df.info()"
   ]
  },
  {
   "cell_type": "markdown",
   "id": "024d3331",
   "metadata": {
    "papermill": {
     "duration": 0.048947,
     "end_time": "2023-08-30T22:38:54.709094",
     "exception": false,
     "start_time": "2023-08-30T22:38:54.660147",
     "status": "completed"
    },
    "tags": []
   },
   "source": [
    "<a id=\"imbalance\"></a>\n",
    "# <b><span style='color:darkturquoise'>Step 4.5 |</span><span style='color:royalblue'> Check Imbalanced Data</span></b>"
   ]
  },
  {
   "cell_type": "markdown",
   "id": "5adcc53b",
   "metadata": {
    "papermill": {
     "duration": 0.047674,
     "end_time": "2023-08-30T22:38:54.806298",
     "exception": false,
     "start_time": "2023-08-30T22:38:54.758624",
     "status": "completed"
    },
    "tags": []
   },
   "source": [
    "<div style=\"border-radius:10px; padding: 15px; background-color: #d1d1ed; font-size:115%; text-align:left\">\n",
    "\n",
    "If the target variable `is_canceled` is imbalanced, we may need to balance the dataset. Let's check:"
   ]
  },
  {
   "cell_type": "code",
   "execution_count": 28,
   "id": "d1e67e06",
   "metadata": {
    "execution": {
     "iopub.execute_input": "2023-08-30T22:38:54.907939Z",
     "iopub.status.busy": "2023-08-30T22:38:54.907035Z",
     "iopub.status.idle": "2023-08-30T22:38:55.220505Z",
     "shell.execute_reply": "2023-08-30T22:38:55.219129Z"
    },
    "papermill": {
     "duration": 0.36616,
     "end_time": "2023-08-30T22:38:55.223265",
     "exception": false,
     "start_time": "2023-08-30T22:38:54.857105",
     "status": "completed"
    },
    "tags": []
   },
   "outputs": [
    {
     "data": {
      "image/png": "[encoded data removed]",
      "text/plain": [
       "<Figure size 800x500 with 1 Axes>"
      ]
     },
     "metadata": {},
     "output_type": "display_data"
    }
   ],
   "source": [
    "# Calculating the percentage of each class\n",
    "percentage = df['is_canceled'].value_counts(normalize=True) * 100\n",
    "\n",
    "# Plotting the percentage of each class\n",
    "plt.figure(figsize=(8, 5))\n",
    "ax = sns.barplot(x=percentage.index, y=percentage, palette=['darkturquoise', 'royalblue'])\n",
    "plt.title('Percentage of Cancellations and Non-Cancellations')\n",
    "plt.xlabel('Is Canceled')\n",
    "plt.ylabel('Percentage (%)')\n",
    "plt.xticks(ticks=[0, 1], labels=['Not Canceled', 'Canceled'])\n",
    "plt.yticks(ticks=range(0,80,10))\n",
    "\n",
    "# Displaying the percentage on the bars\n",
    "for i, p in enumerate(percentage):\n",
    "    ax.text(i, p + 0.5, f'{p:.2f}%', ha='center', va='bottom')\n",
    "\n",
    "plt.show()"
   ]
  },
  {
   "cell_type": "markdown",
   "id": "f7b69123",
   "metadata": {
    "papermill": {
     "duration": 0.049591,
     "end_time": "2023-08-30T22:38:55.322629",
     "exception": false,
     "start_time": "2023-08-30T22:38:55.273038",
     "status": "completed"
    },
    "tags": []
   },
   "source": [
    "<div style=\"border-radius:10px; padding: 15px; background-color: #d1d1ed; font-size:115%; text-align:left\">\n",
    "\n",
    "<h3 align=\"left\"><font color=royalblue>Inference:</font></h3>\n",
    "    \n",
    "The bar plot shows the percentage of cancellations and non-cancellations in the dataset. Approximately 37.08% of the bookings were canceled, and 62.92% were not canceled. This indicates that there is some imbalance in the target variable, but it is not highly imbalanced. Generally, a dataset is considered highly imbalanced if one class represents over 80-90% of the data. In this case, the minority class (canceled) is still well-represented, so it may not be necessary to apply any resampling techniques (e.g., oversampling, undersampling) to balance the classes. However, it is always good to try different approaches and evaluate the model's performance to decide the best approach."
   ]
  },
  {
   "cell_type": "markdown",
   "id": "57447608",
   "metadata": {
    "papermill": {
     "duration": 0.050563,
     "end_time": "2023-08-30T22:38:55.422749",
     "exception": false,
     "start_time": "2023-08-30T22:38:55.372186",
     "status": "completed"
    },
    "tags": []
   },
   "source": [
    "<a id=\"split\"></a>\n",
    "# <b><span style='color:darkturquoise'>Step 4.6 |</span><span style='color:royalblue'> Split the Dataset</span></b>"
   ]
  },
  {
   "cell_type": "markdown",
   "id": "5c7ffdf2",
   "metadata": {
    "papermill": {
     "duration": 0.050086,
     "end_time": "2023-08-30T22:38:55.522748",
     "exception": false,
     "start_time": "2023-08-30T22:38:55.472662",
     "status": "completed"
    },
    "tags": []
   },
   "source": [
    "<div style=\"border-radius:10px; padding: 15px; background-color: #d1d1ed; font-size:115%; text-align:left\">\n",
    "    \n",
    "Finally, lets split the dataset into training and testing sets:"
   ]
  },
  {
   "cell_type": "code",
   "execution_count": 29,
   "id": "ef0b8b20",
   "metadata": {
    "execution": {
     "iopub.execute_input": "2023-08-30T22:38:55.622771Z",
     "iopub.status.busy": "2023-08-30T22:38:55.622004Z",
     "iopub.status.idle": "2023-08-30T22:38:55.642072Z",
     "shell.execute_reply": "2023-08-30T22:38:55.641274Z"
    },
    "papermill": {
     "duration": 0.073469,
     "end_time": "2023-08-30T22:38:55.644954",
     "exception": false,
     "start_time": "2023-08-30T22:38:55.571485",
     "status": "completed"
    },
    "tags": []
   },
   "outputs": [
    {
     "name": "stdout",
     "output_type": "stream",
     "text": [
      "<class 'pandas.core.frame.DataFrame'>\n",
      "RangeIndex: 118985 entries, 0 to 118984\n",
      "Data columns (total 48 columns):\n",
      " #   Column                          Non-Null Count   Dtype  \n",
      "---  ------                          --------------   -----  \n",
      " 0   is_canceled                     118985 non-null  int64  \n",
      " 1   lead_time                       118985 non-null  int64  \n",
      " 2   arrival_date_month              118985 non-null  int64  \n",
      " 3   arrival_date_week_number        118985 non-null  int64  \n",
      " 4   arrival_date_day_of_month       118985 non-null  int64  \n",
      " 5   stays_in_weekend_nights         118985 non-null  int64  \n",
      " 6   stays_in_week_nights            118985 non-null  int64  \n",
      " 7   adults                          118985 non-null  int64  \n",
      " 8   children                        118985 non-null  float64\n",
      " 9   babies                          118985 non-null  int64  \n",
      " 10  is_repeated_guest               118985 non-null  int64  \n",
      " 11  previous_cancellations          118985 non-null  int64  \n",
      " 12  previous_bookings_not_canceled  118985 non-null  int64  \n",
      " 13  booking_changes                 118985 non-null  int64  \n",
      " 14  days_in_waiting_list            118985 non-null  int64  \n",
      " 15  adr                             118985 non-null  float64\n",
      " 16  required_car_parking_spaces     118985 non-null  int64  \n",
      " 17  total_of_special_requests       118985 non-null  int64  \n",
      " 18  number_of_bookings              118985 non-null  int64  \n",
      " 19  hotel_Resort Hotel              118985 non-null  uint8  \n",
      " 20  meal_FB                         118985 non-null  uint8  \n",
      " 21  meal_HB                         118985 non-null  uint8  \n",
      " 22  meal_SC                         118985 non-null  uint8  \n",
      " 23  meal_Undefined                  118985 non-null  uint8  \n",
      " 24  market_segment_Complementary    118985 non-null  uint8  \n",
      " 25  market_segment_Corporate        118985 non-null  uint8  \n",
      " 26  market_segment_Direct           118985 non-null  uint8  \n",
      " 27  market_segment_Groups           118985 non-null  uint8  \n",
      " 28  market_segment_Offline TA/TO    118985 non-null  uint8  \n",
      " 29  market_segment_Online TA        118985 non-null  uint8  \n",
      " 30  market_segment_Undefined        118985 non-null  uint8  \n",
      " 31  distribution_channel_Direct     118985 non-null  uint8  \n",
      " 32  distribution_channel_GDS        118985 non-null  uint8  \n",
      " 33  distribution_channel_TA/TO      118985 non-null  uint8  \n",
      " 34  distribution_channel_Undefined  118985 non-null  uint8  \n",
      " 35  reserved_room_type_B            118985 non-null  uint8  \n",
      " 36  reserved_room_type_C            118985 non-null  uint8  \n",
      " 37  reserved_room_type_D            118985 non-null  uint8  \n",
      " 38  reserved_room_type_E            118985 non-null  uint8  \n",
      " 39  reserved_room_type_F            118985 non-null  uint8  \n",
      " 40  reserved_room_type_G            118985 non-null  uint8  \n",
      " 41  reserved_room_type_H            118985 non-null  uint8  \n",
      " 42  reserved_room_type_L            118985 non-null  uint8  \n",
      " 43  deposit_type_Non Refund         118985 non-null  uint8  \n",
      " 44  deposit_type_Refundable         118985 non-null  uint8  \n",
      " 45  customer_type_Group             118985 non-null  uint8  \n",
      " 46  customer_type_Transient         118985 non-null  uint8  \n",
      " 47  customer_type_Transient-Party   118985 non-null  uint8  \n",
      "dtypes: float64(2), int64(17), uint8(29)\n",
      "memory usage: 20.5 MB\n"
     ]
    }
   ],
   "source": [
    "df.info()"
   ]
  },
  {
   "cell_type": "code",
   "execution_count": 30,
   "id": "64e40ccb",
   "metadata": {
    "execution": {
     "iopub.execute_input": "2023-08-30T22:38:55.746428Z",
     "iopub.status.busy": "2023-08-30T22:38:55.745744Z",
     "iopub.status.idle": "2023-08-30T22:38:55.757787Z",
     "shell.execute_reply": "2023-08-30T22:38:55.756826Z"
    },
    "papermill": {
     "duration": 0.065395,
     "end_time": "2023-08-30T22:38:55.760153",
     "exception": false,
     "start_time": "2023-08-30T22:38:55.694758",
     "status": "completed"
    },
    "tags": []
   },
   "outputs": [],
   "source": [
    "# Define the features (X) and the output labels (y)\n",
    "X = df.drop('is_canceled', axis=1)\n",
    "y = df['is_canceled'] "
   ]
  },
  {
   "cell_type": "code",
   "execution_count": 31,
   "id": "862ed4c6",
   "metadata": {
    "execution": {
     "iopub.execute_input": "2023-08-30T22:38:55.860964Z",
     "iopub.status.busy": "2023-08-30T22:38:55.860556Z",
     "iopub.status.idle": "2023-08-30T22:38:55.968708Z",
     "shell.execute_reply": "2023-08-30T22:38:55.967801Z"
    },
    "papermill": {
     "duration": 0.161892,
     "end_time": "2023-08-30T22:38:55.971238",
     "exception": false,
     "start_time": "2023-08-30T22:38:55.809346",
     "status": "completed"
    },
    "tags": []
   },
   "outputs": [],
   "source": [
    "# Splitting data into train and test sets\n",
    "X_train, X_test, y_train, y_test = train_test_split(X, y, test_size=0.2, random_state=0, stratify=y)"
   ]
  },
  {
   "cell_type": "markdown",
   "id": "42242ca2",
   "metadata": {
    "papermill": {
     "duration": 0.049252,
     "end_time": "2023-08-30T22:38:56.071966",
     "exception": false,
     "start_time": "2023-08-30T22:38:56.022714",
     "status": "completed"
    },
    "tags": []
   },
   "source": [
    "<div style=\"border-radius:10px; padding: 15px; background-color: #d1d1ed; font-size:115%; text-align:left\">\n",
    "\n",
    "<h3 align=\"left\"><font color=royalblue>Note:</font></h3>\n",
    "    \n",
    "* In the above split, we used __Stratification__ which ensures that the distribution of the target variable (`is_canceled`) is the same in both the train and test sets"
   ]
  },
  {
   "cell_type": "markdown",
   "id": "1015b9a5",
   "metadata": {
    "papermill": {
     "duration": 0.048918,
     "end_time": "2023-08-30T22:38:56.169960",
     "exception": false,
     "start_time": "2023-08-30T22:38:56.121042",
     "status": "completed"
    },
    "tags": []
   },
   "source": [
    "<a id=\"dt\"></a>\n",
    "# <p style=\"background-color:royalblue; font-family:calibri; color:white; font-size:150%; text-align:center; border-radius:15px 50px;\">Step 5 | Decision Tree Model Building</p>\n",
    "\n",
    "⬆️ [Tabel of Contents](#contents_tabel)"
   ]
  },
  {
   "cell_type": "markdown",
   "id": "5027eedb",
   "metadata": {
    "papermill": {
     "duration": 0.049093,
     "end_time": "2023-08-30T22:38:56.345605",
     "exception": false,
     "start_time": "2023-08-30T22:38:56.296512",
     "status": "completed"
    },
    "tags": []
   },
   "source": [
    "<a id=\"dt_base\"></a>\n",
    "# <b><span style='color:darkturquoise'>Step 5.1 |</span><span style='color:royalblue'>  DT Base Model Definition</span></b>"
   ]
  },
  {
   "cell_type": "markdown",
   "id": "eb6c5542",
   "metadata": {
    "papermill": {
     "duration": 0.0503,
     "end_time": "2023-08-30T22:38:56.445477",
     "exception": false,
     "start_time": "2023-08-30T22:38:56.395177",
     "status": "completed"
    },
    "tags": []
   },
   "source": [
    "<div style=\"border-radius:10px; padding: 15px; background-color: #d1d1ed; font-size:115%; text-align:left\">\n",
    "\n",
    "First of all, let's define the base DT model:"
   ]
  },
  {
   "cell_type": "code",
   "execution_count": 32,
   "id": "4dc665ab",
   "metadata": {
    "execution": {
     "iopub.execute_input": "2023-08-30T22:38:56.547791Z",
     "iopub.status.busy": "2023-08-30T22:38:56.547080Z",
     "iopub.status.idle": "2023-08-30T22:38:56.552173Z",
     "shell.execute_reply": "2023-08-30T22:38:56.551075Z"
    },
    "papermill": {
     "duration": 0.059,
     "end_time": "2023-08-30T22:38:56.554685",
     "exception": false,
     "start_time": "2023-08-30T22:38:56.495685",
     "status": "completed"
    },
    "tags": []
   },
   "outputs": [],
   "source": [
    "# Define the base DT model\n",
    "dt_base = DecisionTreeClassifier(random_state=0)"
   ]
  },
  {
   "cell_type": "markdown",
   "id": "efedfe1d",
   "metadata": {
    "papermill": {
     "duration": 0.049074,
     "end_time": "2023-08-30T22:38:56.653424",
     "exception": false,
     "start_time": "2023-08-30T22:38:56.604350",
     "status": "completed"
    },
    "tags": []
   },
   "source": [
    "<a id=\"dt_hp\"></a>\n",
    "# <b><span style='color:darkturquoise'>Step 5.2 |</span><span style='color:royalblue'>  DT Hyperparameter Tuning</span></b>"
   ]
  },
  {
   "cell_type": "markdown",
   "id": "1280794f",
   "metadata": {
    "papermill": {
     "duration": 0.049647,
     "end_time": "2023-08-30T22:38:56.754194",
     "exception": false,
     "start_time": "2023-08-30T22:38:56.704547",
     "status": "completed"
    },
    "tags": []
   },
   "source": [
    "<div style=\"border-radius:10px; padding: 15px; background-color: #d1d1ed; font-size:115%; text-align:left\">\n",
    "\n",
    "<h3 align=\"left\"><font color=royalblue>🎯 Note:</font></h3>\n",
    "\n",
    "In this hotel booking problem, the target variable is `is_canceled`, which indicates whether a booking was canceled (1) or not (0). Both false positives (a booking is predicted as canceled, but it is not) and false negatives (a booking is predicted as not canceled, but it is) could be costly for the hotel. \n",
    "\n",
    "However, false negatives may be more costly because the hotel might lose potential customers by overbooking rooms, expecting some cancellations that do not happen. Therefore, it is important to minimize false negatives, which means maximizing recall for the 'canceled' class (1) would be a good approach.\n",
    "\n",
    "Precision is also important because it minimizes false positives, which means minimizing the cases where the model predicts a cancellation, but the guest actually arrives. This could lead to overbooking and unsatisfied customers.\n",
    "\n",
    "Therefore, the F1-score, which is the harmonic mean of precision and recall, would be a good metric to use as it balances both precision and recall. Specifically, __the F1-score for the 'canceled' class (1) would be the most important metric for evaluating models in this project.__"
   ]
  },
  {
   "cell_type": "markdown",
   "id": "b40c75c0",
   "metadata": {
    "papermill": {
     "duration": 0.049241,
     "end_time": "2023-08-30T22:38:56.853810",
     "exception": false,
     "start_time": "2023-08-30T22:38:56.804569",
     "status": "completed"
    },
    "tags": []
   },
   "source": [
    "<div style=\"border-radius:10px; padding: 15px; background-color: #d1d1ed; font-size:115%; text-align:left\">\n",
    "\n",
    "I will create a function to identify the best set of hyperparameters that maximize the __F1-score for class 1 (canceled bookings)__. This method provides a reusable framework for hyperparameter tuning for other models as well:"
   ]
  },
  {
   "cell_type": "code",
   "execution_count": 33,
   "id": "154f9ecb",
   "metadata": {
    "execution": {
     "iopub.execute_input": "2023-08-30T22:38:56.955357Z",
     "iopub.status.busy": "2023-08-30T22:38:56.954905Z",
     "iopub.status.idle": "2023-08-30T22:38:56.963145Z",
     "shell.execute_reply": "2023-08-30T22:38:56.961871Z"
    },
    "papermill": {
     "duration": 0.062569,
     "end_time": "2023-08-30T22:38:56.965836",
     "exception": false,
     "start_time": "2023-08-30T22:38:56.903267",
     "status": "completed"
    },
    "tags": []
   },
   "outputs": [],
   "source": [
    "def tune_clf_hyperparameters(clf, param_grid, X_train, y_train, scoring='f1', n_splits=5):\n",
    "    '''\n",
    "    This function optimizes the hyperparameters for a classifier by searching over a specified hyperparameter grid. \n",
    "    It uses GridSearchCV and cross-validation (StratifiedKFold) to evaluate different combinations of hyperparameters. \n",
    "    The combination with the highest F1-score for class 1 (canceled bookings) is selected as the default scoring metric. \n",
    "    The function returns the classifier with the optimal hyperparameters.\n",
    "    '''\n",
    "    \n",
    "    # Create the cross-validation object using StratifiedKFold to ensure the class distribution is the same across all the folds\n",
    "    cv = StratifiedKFold(n_splits=n_splits, shuffle=True, random_state=0)\n",
    "\n",
    "    # Create the GridSearchCV object\n",
    "    clf_grid = GridSearchCV(clf, param_grid, cv=cv, scoring=scoring, n_jobs=-1)\n",
    "\n",
    "    # Fit the GridSearchCV object to the training data\n",
    "    clf_grid.fit(X_train, y_train)\n",
    "\n",
    "    # Get the best hyperparameters\n",
    "    best_hyperparameters = clf_grid.best_params_\n",
    "    \n",
    "    # Return best_estimator_ attribute which gives us the best model that has been fitted to the training data\n",
    "    return clf_grid.best_estimator_, best_hyperparameters"
   ]
  },
  {
   "cell_type": "markdown",
   "id": "a1e7e7aa",
   "metadata": {
    "papermill": {
     "duration": 0.049733,
     "end_time": "2023-08-30T22:38:57.068168",
     "exception": false,
     "start_time": "2023-08-30T22:38:57.018435",
     "status": "completed"
    },
    "tags": []
   },
   "source": [
    "<div style=\"border-radius:10px; padding: 15px; background-color: #d1d1ed; font-size:115%; text-align:left\">\n",
    "\n",
    "I will establish the grid of hyperparameters and use the __tune_clf_hyperparameters__ function to determine the most suitable hyperparameters for our Decision Tree (DT) model:\n"
   ]
  },
  {
   "cell_type": "code",
   "execution_count": 34,
   "id": "125bf4c2",
   "metadata": {
    "execution": {
     "iopub.execute_input": "2023-08-30T22:38:57.169772Z",
     "iopub.status.busy": "2023-08-30T22:38:57.169142Z",
     "iopub.status.idle": "2023-08-30T22:38:57.175319Z",
     "shell.execute_reply": "2023-08-30T22:38:57.174575Z"
    },
    "papermill": {
     "duration": 0.059716,
     "end_time": "2023-08-30T22:38:57.177593",
     "exception": false,
     "start_time": "2023-08-30T22:38:57.117877",
     "status": "completed"
    },
    "tags": []
   },
   "outputs": [],
   "source": [
    "# Hyperparameter grid for DT\n",
    "param_grid_dt = {\n",
    "    'criterion': ['gini', 'entropy'],\n",
    "    'max_depth': [13, 14, 15],\n",
    "    'min_samples_split': [2, 3, 4],\n",
    "    'min_samples_leaf': [1, 2, 3],\n",
    "    'class_weight': [{0: 1, 1: w} for w in [1, 2, 3]]\n",
    "}"
   ]
  },
  {
   "cell_type": "markdown",
   "id": "b522f8ce",
   "metadata": {
    "papermill": {
     "duration": 0.049281,
     "end_time": "2023-08-30T22:38:57.276938",
     "exception": false,
     "start_time": "2023-08-30T22:38:57.227657",
     "status": "completed"
    },
    "tags": []
   },
   "source": [
    "<div style=\"border-radius:10px; padding: 15px; background-color: #d1d1ed; font-size:115%; text-align:left\">\n",
    "\n",
    "<h3 align=\"left\"><font color=royalblue> Note:</font></h3>\n",
    "\n",
    "Since the data is slightly imbalanced and we want to optimize for class 1, we have included the `class_weight` parameter in our grid. In the grid above, the weight for class 0 is always 1, while the weight for class 1 varies from 1 to 5. This will help the model to focus more on class 1."
   ]
  },
  {
   "cell_type": "code",
   "execution_count": 35,
   "id": "2bbdb211",
   "metadata": {
    "_kg_hide-output": true,
    "execution": {
     "iopub.execute_input": "2023-08-30T22:38:57.378832Z",
     "iopub.status.busy": "2023-08-30T22:38:57.378078Z",
     "iopub.status.idle": "2023-08-30T22:42:50.260486Z",
     "shell.execute_reply": "2023-08-30T22:42:50.258933Z"
    },
    "papermill": {
     "duration": 232.936749,
     "end_time": "2023-08-30T22:42:50.263590",
     "exception": false,
     "start_time": "2023-08-30T22:38:57.326841",
     "status": "completed"
    },
    "tags": []
   },
   "outputs": [
    {
     "name": "stderr",
     "output_type": "stream",
     "text": [
      "/opt/conda/lib/python3.10/site-packages/scipy/__init__.py:146: UserWarning: A NumPy version >=1.16.5 and <1.23.0 is required for this version of SciPy (detected version 1.23.5\n",
      "  warnings.warn(f\"A NumPy version >={np_minversion} and <{np_maxversion}\"\n",
      "/opt/conda/lib/python3.10/site-packages/scipy/__init__.py:146: UserWarning: A NumPy version >=1.16.5 and <1.23.0 is required for this version of SciPy (detected version 1.23.5\n",
      "  warnings.warn(f\"A NumPy version >={np_minversion} and <{np_maxversion}\"\n",
      "/opt/conda/lib/python3.10/site-packages/scipy/__init__.py:146: UserWarning: A NumPy version >=1.16.5 and <1.23.0 is required for this version of SciPy (detected version 1.23.5\n",
      "  warnings.warn(f\"A NumPy version >={np_minversion} and <{np_maxversion}\"\n",
      "/opt/conda/lib/python3.10/site-packages/scipy/__init__.py:146: UserWarning: A NumPy version >=1.16.5 and <1.23.0 is required for this version of SciPy (detected version 1.23.5\n",
      "  warnings.warn(f\"A NumPy version >={np_minversion} and <{np_maxversion}\"\n"
     ]
    }
   ],
   "source": [
    "# Call the function for hyperparameter tuning\n",
    "best_dt, best_dt_hyperparams = tune_clf_hyperparameters(dt_base, param_grid_dt, X_train, y_train)"
   ]
  },
  {
   "cell_type": "code",
   "execution_count": 36,
   "id": "14d31313",
   "metadata": {
    "execution": {
     "iopub.execute_input": "2023-08-30T22:42:50.366508Z",
     "iopub.status.busy": "2023-08-30T22:42:50.366085Z",
     "iopub.status.idle": "2023-08-30T22:42:50.371937Z",
     "shell.execute_reply": "2023-08-30T22:42:50.370910Z"
    },
    "papermill": {
     "duration": 0.060269,
     "end_time": "2023-08-30T22:42:50.374205",
     "exception": false,
     "start_time": "2023-08-30T22:42:50.313936",
     "status": "completed"
    },
    "tags": []
   },
   "outputs": [
    {
     "name": "stdout",
     "output_type": "stream",
     "text": [
      "DT Optimal Hyperparameters: \n",
      " {'class_weight': {0: 1, 1: 2}, 'criterion': 'gini', 'max_depth': 15, 'min_samples_leaf': 1, 'min_samples_split': 2}\n"
     ]
    }
   ],
   "source": [
    "print('DT Optimal Hyperparameters: \\n', best_dt_hyperparams)"
   ]
  },
  {
   "cell_type": "markdown",
   "id": "6f9e4e3a",
   "metadata": {
    "papermill": {
     "duration": 0.049734,
     "end_time": "2023-08-30T22:42:50.474404",
     "exception": false,
     "start_time": "2023-08-30T22:42:50.424670",
     "status": "completed"
    },
    "tags": []
   },
   "source": [
    "<a id=\"dt_evaluation\"></a>\n",
    "# <b><span style='color:darkturquoise'>Step 5.3 |</span><span style='color:royalblue'>  DT Model Evaluation</span></b>"
   ]
  },
  {
   "cell_type": "markdown",
   "id": "030eabcd",
   "metadata": {
    "papermill": {
     "duration": 0.049243,
     "end_time": "2023-08-30T22:42:50.573904",
     "exception": false,
     "start_time": "2023-08-30T22:42:50.524661",
     "status": "completed"
    },
    "tags": []
   },
   "source": [
    "<div style=\"border-radius:10px; padding: 15px; background-color: #d1d1ed; font-size:115%; text-align:left\">\n",
    "\n",
    "To streamline the evaluation of different models, we will define a set of functions that compute key performance metrics. This approach will ensure consistency in how we assess each model and facilitate comparisons between them:"
   ]
  },
  {
   "cell_type": "code",
   "execution_count": 37,
   "id": "c6ff77ff",
   "metadata": {
    "execution": {
     "iopub.execute_input": "2023-08-30T22:42:50.675082Z",
     "iopub.status.busy": "2023-08-30T22:42:50.674674Z",
     "iopub.status.idle": "2023-08-30T22:42:50.682438Z",
     "shell.execute_reply": "2023-08-30T22:42:50.681490Z"
    },
    "papermill": {
     "duration": 0.061107,
     "end_time": "2023-08-30T22:42:50.684480",
     "exception": false,
     "start_time": "2023-08-30T22:42:50.623373",
     "status": "completed"
    },
    "tags": []
   },
   "outputs": [],
   "source": [
    "def metrics_calculator(clf, X_test, y_test, model_name):\n",
    "    '''\n",
    "    This function calculates all desired performance metrics for a given model on test data.\n",
    "    The metrics are calculated specifically for class 1.\n",
    "    '''\n",
    "    y_pred = clf.predict(X_test)\n",
    "    result = pd.DataFrame(data=[accuracy_score(y_test, y_pred),\n",
    "                                precision_score(y_test, y_pred, pos_label=1),\n",
    "                                recall_score(y_test, y_pred, pos_label=1),\n",
    "                                f1_score(y_test, y_pred, pos_label=1),\n",
    "                                roc_auc_score(y_test, clf.predict_proba(X_test)[:,1])],\n",
    "                          index=['Accuracy','Precision (Class 1)','Recall (Class 1)','F1-score (Class 1)','AUC (Class 1)'],\n",
    "                          columns = [model_name])\n",
    "    \n",
    "    result = (result * 100).round(2).astype(str) + '%'                            \n",
    "    return result"
   ]
  },
  {
   "cell_type": "code",
   "execution_count": 38,
   "id": "78474b42",
   "metadata": {
    "execution": {
     "iopub.execute_input": "2023-08-30T22:42:50.785753Z",
     "iopub.status.busy": "2023-08-30T22:42:50.784922Z",
     "iopub.status.idle": "2023-08-30T22:42:50.799602Z",
     "shell.execute_reply": "2023-08-30T22:42:50.798448Z"
    },
    "papermill": {
     "duration": 0.068075,
     "end_time": "2023-08-30T22:42:50.802144",
     "exception": false,
     "start_time": "2023-08-30T22:42:50.734069",
     "status": "completed"
    },
    "tags": []
   },
   "outputs": [],
   "source": [
    "def model_evaluation(clf, X_train, X_test, y_train, y_test, model_name):\n",
    "    '''\n",
    "    This function provides a complete report of the model's performance including classification reports, \n",
    "    confusion matrix and ROC curve.\n",
    "    '''\n",
    "    sns.set(font_scale=1.2)\n",
    "    \n",
    "    # Generate classification report for training set\n",
    "    y_pred_train = clf.predict(X_train)\n",
    "    print(\"\\n\\t  Classification report for training set\")\n",
    "    print(\"-\"*55)\n",
    "    print(classification_report(y_train, y_pred_train))\n",
    "\n",
    "    # Generate classification report for test set\n",
    "    y_pred_test = clf.predict(X_test)\n",
    "    print(\"\\n\\t   Classification report for test set\")\n",
    "    print(\"-\"*55)\n",
    "    print(classification_report(y_test, y_pred_test))\n",
    "    \n",
    "    # Create figure and subplots \n",
    "    fig, (ax1, ax2, ax3) = plt.subplots(1, 3, figsize=(15, 5), dpi=100, gridspec_kw={'width_ratios': [2, 2, 1]})\n",
    "    \n",
    "    # Define a colormap\n",
    "    royalblue = LinearSegmentedColormap.from_list('royalblue', [(0, (1,1,1)), (1, (0.25,0.41,0.88))])\n",
    "    royalblue_r = royalblue.reversed()\n",
    "\n",
    "    # Plot confusion matrix for test set\n",
    "    ConfusionMatrixDisplay.from_estimator(clf, X_test, y_test, colorbar=False, cmap=royalblue_r, ax=ax1)\n",
    "    ax1.set_title('Confusion Matrix for Test Data')                                     \n",
    "    ax1.grid(False)\n",
    "    \n",
    "    # Plot ROC curve for test data and display AUC score \n",
    "    RocCurveDisplay.from_estimator(clf, X_test, y_test, ax=ax2)\n",
    "    ax2.set_xlabel('False Positive Rate')\n",
    "    ax2.set_ylabel('True Positive Rate')\n",
    "    ax2.set_title('ROC Curve for Test Data (Positive label: 1)')\n",
    "    \n",
    "    # Report results for the class specified by positive label\n",
    "    result = metrics_calculator(clf, X_test, y_test, model_name)\n",
    "    table = ax3.table(cellText=result.values, colLabels=result.columns, rowLabels=result.index, loc='center')\n",
    "    table.scale(0.6, 2)\n",
    "    table.set_fontsize(12)\n",
    "    ax3.axis('tight')\n",
    "    ax3.axis('off')\n",
    "    # Modify color \n",
    "    for key, cell in table.get_celld().items():\n",
    "        if key[0] == 0:\n",
    "            cell.set_color('royalblue')\n",
    "    plt.tight_layout()\n",
    "    plt.show() "
   ]
  },
  {
   "cell_type": "markdown",
   "id": "4583ba35",
   "metadata": {
    "papermill": {
     "duration": 0.049169,
     "end_time": "2023-08-30T22:42:50.900811",
     "exception": false,
     "start_time": "2023-08-30T22:42:50.851642",
     "status": "completed"
    },
    "tags": []
   },
   "source": [
    "<div style=\"border-radius:10px; padding: 15px; background-color: #d1d1ed; font-size:115%; text-align:left\">\n",
    "    \n",
    "Let's call the above function for evaluating our DT classifier:"
   ]
  },
  {
   "cell_type": "code",
   "execution_count": 39,
   "id": "14604547",
   "metadata": {
    "execution": {
     "iopub.execute_input": "2023-08-30T22:42:51.002131Z",
     "iopub.status.busy": "2023-08-30T22:42:51.001310Z",
     "iopub.status.idle": "2023-08-30T22:42:52.397616Z",
     "shell.execute_reply": "2023-08-30T22:42:52.396503Z"
    },
    "papermill": {
     "duration": 1.449678,
     "end_time": "2023-08-30T22:42:52.399904",
     "exception": false,
     "start_time": "2023-08-30T22:42:50.950226",
     "status": "completed"
    },
    "tags": []
   },
   "outputs": [
    {
     "name": "stdout",
     "output_type": "stream",
     "text": [
      "\n",
      "\t  Classification report for training set\n",
      "-------------------------------------------------------\n",
      "              precision    recall  f1-score   support\n",
      "\n",
      "           0       0.90      0.83      0.86     59897\n",
      "           1       0.74      0.85      0.79     35291\n",
      "\n",
      "    accuracy                           0.83     95188\n",
      "   macro avg       0.82      0.84      0.83     95188\n",
      "weighted avg       0.84      0.83      0.84     95188\n",
      "\n",
      "\n",
      "\t   Classification report for test set\n",
      "-------------------------------------------------------\n",
      "              precision    recall  f1-score   support\n",
      "\n",
      "           0       0.88      0.80      0.84     14974\n",
      "           1       0.70      0.81      0.75      8823\n",
      "\n",
      "    accuracy                           0.80     23797\n",
      "   macro avg       0.79      0.80      0.79     23797\n",
      "weighted avg       0.81      0.80      0.81     23797\n",
      "\n"
     ]
    },
    {
     "data": {
      "image/png": "[encoded data removed]",
      "text/plain": [
       "<Figure size 1500x500 with 3 Axes>"
      ]
     },
     "metadata": {},
     "output_type": "display_data"
    }
   ],
   "source": [
    "model_evaluation(best_dt, X_train, X_test, y_train, y_test, 'Decision Tree')"
   ]
  },
  {
   "cell_type": "markdown",
   "id": "cd2a9815",
   "metadata": {
    "papermill": {
     "duration": 0.060831,
     "end_time": "2023-08-30T22:42:52.523091",
     "exception": false,
     "start_time": "2023-08-30T22:42:52.462260",
     "status": "completed"
    },
    "tags": []
   },
   "source": [
    "<div style=\"border-radius:10px; padding: 15px; background-color: #d1d1ed; font-size:115%; text-align:left\">\n",
    "\n",
    "<h3 align=\"left\"><font color=royalblue>✅ Inference:</font></h3>\n",
    "\n",
    "Our __DT model's performance__ on the test data is as follows:\n",
    "\n",
    "- The **Accuracy** is 80.3%, which means the model is correctly predicting whether a booking will be canceled or not about 80% of the time.\n",
    "\n",
    "- The **Precision** for class 1 (cancellations) is 70.5%, which means that 71% of the bookings that the model predicted as canceled were actually canceled.\n",
    "\n",
    "- The **Recall** for class 1 is 80.61%, which means that the model correctly identified 81% of the actual cancellations.\n",
    "\n",
    "- The **F1-score** for class 1 is 75.22%, which is the harmonic mean of Precision and Recall.\n",
    "\n",
    "- The **AUC** (Area Under the ROC Curve) for class 1 is 88.63%, which means that the model has a good discriminative power between the two classes.\n",
    "\n",
    "The confusion matrix shows that there are still some False Positives and False Negatives, but the model is doing a relatively good job of minimizing them.\n",
    "\n",
    "Additionally, the model is not overfitting, as the metric values for the test and train sets are close together, indicating that the model is generalizing well to unseen data.\n",
    "\n",
    "Overall, this model is performing well on the test data and seems to be a good model for predicting cancellations, although there is room for improvement."
   ]
  },
  {
   "cell_type": "code",
   "execution_count": 40,
   "id": "37c43aab",
   "metadata": {
    "execution": {
     "iopub.execute_input": "2023-08-30T22:42:52.634580Z",
     "iopub.status.busy": "2023-08-30T22:42:52.633712Z",
     "iopub.status.idle": "2023-08-30T22:42:52.708751Z",
     "shell.execute_reply": "2023-08-30T22:42:52.707516Z"
    },
    "papermill": {
     "duration": 0.133831,
     "end_time": "2023-08-30T22:42:52.711071",
     "exception": false,
     "start_time": "2023-08-30T22:42:52.577240",
     "status": "completed"
    },
    "tags": []
   },
   "outputs": [
    {
     "data": {
      "text/html": [
       "<div>\n",
       "<style scoped>\n",
       "    .dataframe tbody tr th:only-of-type {\n",
       "        vertical-align: middle;\n",
       "    }\n",
       "\n",
       "    .dataframe tbody tr th {\n",
       "        vertical-align: top;\n",
       "    }\n",
       "\n",
       "    .dataframe thead th {\n",
       "        text-align: right;\n",
       "    }\n",
       "</style>\n",
       "<table border=\"1\" class=\"dataframe\">\n",
       "  <thead>\n",
       "    <tr style=\"text-align: right;\">\n",
       "      <th></th>\n",
       "      <th>Decision Tree</th>\n",
       "    </tr>\n",
       "  </thead>\n",
       "  <tbody>\n",
       "    <tr>\n",
       "      <th>Accuracy</th>\n",
       "      <td>80.3%</td>\n",
       "    </tr>\n",
       "    <tr>\n",
       "      <th>Precision (Class 1)</th>\n",
       "      <td>70.5%</td>\n",
       "    </tr>\n",
       "    <tr>\n",
       "      <th>Recall (Class 1)</th>\n",
       "      <td>80.61%</td>\n",
       "    </tr>\n",
       "    <tr>\n",
       "      <th>F1-score (Class 1)</th>\n",
       "      <td>75.22%</td>\n",
       "    </tr>\n",
       "    <tr>\n",
       "      <th>AUC (Class 1)</th>\n",
       "      <td>88.63%</td>\n",
       "    </tr>\n",
       "  </tbody>\n",
       "</table>\n",
       "</div>"
      ],
      "text/plain": [
       "                    Decision Tree\n",
       "Accuracy                    80.3%\n",
       "Precision (Class 1)         70.5%\n",
       "Recall (Class 1)           80.61%\n",
       "F1-score (Class 1)         75.22%\n",
       "AUC (Class 1)              88.63%"
      ]
     },
     "execution_count": 40,
     "metadata": {},
     "output_type": "execute_result"
    }
   ],
   "source": [
    "# Save the final performance of DT classifier\n",
    "dt_result = metrics_calculator(best_dt, X_test, y_test, 'Decision Tree')\n",
    "dt_result"
   ]
  },
  {
   "cell_type": "markdown",
   "id": "9fd38c4b",
   "metadata": {
    "papermill": {
     "duration": 0.06552,
     "end_time": "2023-08-30T22:42:52.829404",
     "exception": false,
     "start_time": "2023-08-30T22:42:52.763884",
     "status": "completed"
    },
    "tags": []
   },
   "source": [
    "<a id=\"rf\"></a>\n",
    "# <p style=\"background-color:royalblue; font-family:calibri; color:white; font-size:150%; text-align:center; border-radius:15px 50px;\">Step 6 | Random Forest Model Building</p>\n",
    "\n",
    "⬆️ [Tabel of Contents](#contents_tabel)"
   ]
  },
  {
   "cell_type": "markdown",
   "id": "f0b044b0",
   "metadata": {
    "papermill": {
     "duration": 0.052839,
     "end_time": "2023-08-30T22:42:52.948276",
     "exception": false,
     "start_time": "2023-08-30T22:42:52.895437",
     "status": "completed"
    },
    "tags": []
   },
   "source": [
    "<a id=\"rf_base\"></a>\n",
    "# <b><span style='color:darkturquoise'>Step 6.1 |</span><span style='color:royalblue'>  RF Base Model Definition</span></b>"
   ]
  },
  {
   "cell_type": "markdown",
   "id": "30556c40",
   "metadata": {
    "papermill": {
     "duration": 0.052706,
     "end_time": "2023-08-30T22:42:53.053522",
     "exception": false,
     "start_time": "2023-08-30T22:42:53.000816",
     "status": "completed"
    },
    "tags": []
   },
   "source": [
    "<div style=\"border-radius:10px; padding: 15px; background-color: #d1d1ed; font-size:115%; text-align:left\">\n",
    "\n",
    "First of all, let's define the base RF model:"
   ]
  },
  {
   "cell_type": "code",
   "execution_count": 41,
   "id": "1187db25",
   "metadata": {
    "execution": {
     "iopub.execute_input": "2023-08-30T22:42:53.162932Z",
     "iopub.status.busy": "2023-08-30T22:42:53.162069Z",
     "iopub.status.idle": "2023-08-30T22:42:53.167855Z",
     "shell.execute_reply": "2023-08-30T22:42:53.166506Z"
    },
    "papermill": {
     "duration": 0.064785,
     "end_time": "2023-08-30T22:42:53.171104",
     "exception": false,
     "start_time": "2023-08-30T22:42:53.106319",
     "status": "completed"
    },
    "tags": []
   },
   "outputs": [],
   "source": [
    "# Define the base RF model\n",
    "rf_base = RandomForestClassifier(random_state=0, n_jobs=-1)"
   ]
  },
  {
   "cell_type": "markdown",
   "id": "d049ce80",
   "metadata": {
    "papermill": {
     "duration": 0.052095,
     "end_time": "2023-08-30T22:42:53.276863",
     "exception": false,
     "start_time": "2023-08-30T22:42:53.224768",
     "status": "completed"
    },
    "tags": []
   },
   "source": [
    "<a id=\"rf_hp\"></a>\n",
    "# <b><span style='color:darkturquoise'>Step 6.2 |</span><span style='color:royalblue'>  RF Hyperparameter Tuning</span></b>"
   ]
  },
  {
   "cell_type": "markdown",
   "id": "ff1bc51b",
   "metadata": {
    "papermill": {
     "duration": 0.052235,
     "end_time": "2023-08-30T22:42:53.381932",
     "exception": false,
     "start_time": "2023-08-30T22:42:53.329697",
     "status": "completed"
    },
    "tags": []
   },
   "source": [
    "<div style=\"border-radius:10px; padding: 15px; background-color: #d1d1ed; font-size:115%; text-align:left\">\n",
    "\n",
    "Afterward, I'll set up the hyperparameters grid and utilize the `tune_clf_hyperparameters` function to pinpoint the optimal hyperparameters for our RF model:"
   ]
  },
  {
   "cell_type": "code",
   "execution_count": 42,
   "id": "e97d5167",
   "metadata": {
    "execution": {
     "iopub.execute_input": "2023-08-30T22:42:53.490739Z",
     "iopub.status.busy": "2023-08-30T22:42:53.489737Z",
     "iopub.status.idle": "2023-08-30T22:42:53.495270Z",
     "shell.execute_reply": "2023-08-30T22:42:53.494552Z"
    },
    "papermill": {
     "duration": 0.06269,
     "end_time": "2023-08-30T22:42:53.497401",
     "exception": false,
     "start_time": "2023-08-30T22:42:53.434711",
     "status": "completed"
    },
    "tags": []
   },
   "outputs": [],
   "source": [
    "param_grid_rf = {\n",
    "    'n_estimators': [100, 150],\n",
    "    'criterion': ['entropy'],\n",
    "    'max_depth': [16, 18],\n",
    "    'min_samples_split': [2, 3, 4],\n",
    "    'min_samples_leaf': [1, 2, 3],\n",
    "    'class_weight': [{0: 1, 1: w} for w in [1, 2, 3]]\n",
    "}"
   ]
  },
  {
   "cell_type": "code",
   "execution_count": 43,
   "id": "5c7cda00",
   "metadata": {
    "_kg_hide-output": true,
    "execution": {
     "iopub.execute_input": "2023-08-30T22:42:53.603872Z",
     "iopub.status.busy": "2023-08-30T22:42:53.603210Z",
     "iopub.status.idle": "2023-08-30T23:33:16.627293Z",
     "shell.execute_reply": "2023-08-30T23:33:16.626111Z"
    },
    "papermill": {
     "duration": 3023.080508,
     "end_time": "2023-08-30T23:33:16.630422",
     "exception": false,
     "start_time": "2023-08-30T22:42:53.549914",
     "status": "completed"
    },
    "tags": []
   },
   "outputs": [],
   "source": [
    "# Using the tune_clf_hyperparameters function to get the best estimator\n",
    "best_rf, best_rf_hyperparams = tune_clf_hyperparameters(rf_base, param_grid_rf, X_train, y_train)"
   ]
  },
  {
   "cell_type": "code",
   "execution_count": 44,
   "id": "8c49fc93",
   "metadata": {
    "execution": {
     "iopub.execute_input": "2023-08-30T23:33:16.739294Z",
     "iopub.status.busy": "2023-08-30T23:33:16.738812Z",
     "iopub.status.idle": "2023-08-30T23:33:16.744269Z",
     "shell.execute_reply": "2023-08-30T23:33:16.743198Z"
    },
    "papermill": {
     "duration": 0.062148,
     "end_time": "2023-08-30T23:33:16.746576",
     "exception": false,
     "start_time": "2023-08-30T23:33:16.684428",
     "status": "completed"
    },
    "tags": []
   },
   "outputs": [
    {
     "name": "stdout",
     "output_type": "stream",
     "text": [
      "RF Optimal Hyperparameters: \n",
      " {'class_weight': {0: 1, 1: 2}, 'criterion': 'entropy', 'max_depth': 18, 'min_samples_leaf': 1, 'min_samples_split': 4, 'n_estimators': 150}\n"
     ]
    }
   ],
   "source": [
    "print('RF Optimal Hyperparameters: \\n', best_rf_hyperparams)"
   ]
  },
  {
   "cell_type": "markdown",
   "id": "35b02b23",
   "metadata": {
    "papermill": {
     "duration": 0.053491,
     "end_time": "2023-08-30T23:33:16.852543",
     "exception": false,
     "start_time": "2023-08-30T23:33:16.799052",
     "status": "completed"
    },
    "tags": []
   },
   "source": [
    "<a id=\"rf_evaluation\"></a>\n",
    "# <b><span style='color:darkturquoise'>Step 6.3 |</span><span style='color:royalblue'> RF Model Evaluation</span></b>"
   ]
  },
  {
   "cell_type": "markdown",
   "id": "cf81ce2f",
   "metadata": {
    "papermill": {
     "duration": 0.052517,
     "end_time": "2023-08-30T23:33:16.958482",
     "exception": false,
     "start_time": "2023-08-30T23:33:16.905965",
     "status": "completed"
    },
    "tags": []
   },
   "source": [
    "<div style=\"border-radius:10px; padding: 15px; background-color: #d1d1ed; font-size:115%; text-align:left\">\n",
    "    \n",
    "Let's assess the performance of our trained Random Forest model using the `model_evaluation` function:"
   ]
  },
  {
   "cell_type": "code",
   "execution_count": 45,
   "id": "1a2f61c2",
   "metadata": {
    "execution": {
     "iopub.execute_input": "2023-08-30T23:33:17.133116Z",
     "iopub.status.busy": "2023-08-30T23:33:17.132712Z",
     "iopub.status.idle": "2023-08-30T23:33:20.680076Z",
     "shell.execute_reply": "2023-08-30T23:33:20.678871Z"
    },
    "papermill": {
     "duration": 3.604555,
     "end_time": "2023-08-30T23:33:20.683036",
     "exception": false,
     "start_time": "2023-08-30T23:33:17.078481",
     "status": "completed"
    },
    "tags": []
   },
   "outputs": [
    {
     "name": "stdout",
     "output_type": "stream",
     "text": [
      "\n",
      "\t  Classification report for training set\n",
      "-------------------------------------------------------\n",
      "              precision    recall  f1-score   support\n",
      "\n",
      "           0       0.91      0.88      0.89     59897\n",
      "           1       0.80      0.85      0.83     35291\n",
      "\n",
      "    accuracy                           0.87     95188\n",
      "   macro avg       0.86      0.86      0.86     95188\n",
      "weighted avg       0.87      0.87      0.87     95188\n",
      "\n",
      "\n",
      "\t   Classification report for test set\n",
      "-------------------------------------------------------\n",
      "              precision    recall  f1-score   support\n",
      "\n",
      "           0       0.88      0.86      0.87     14974\n",
      "           1       0.77      0.79      0.78      8823\n",
      "\n",
      "    accuracy                           0.84     23797\n",
      "   macro avg       0.83      0.83      0.83     23797\n",
      "weighted avg       0.84      0.84      0.84     23797\n",
      "\n"
     ]
    },
    {
     "data": {
      "image/png": "[encoded data removed]",
      "text/plain": [
       "<Figure size 1500x500 with 3 Axes>"
      ]
     },
     "metadata": {},
     "output_type": "display_data"
    }
   ],
   "source": [
    "model_evaluation(best_rf, X_train, X_test, y_train, y_test, 'Random Forest')"
   ]
  },
  {
   "cell_type": "markdown",
   "id": "368cd90e",
   "metadata": {
    "papermill": {
     "duration": 0.056227,
     "end_time": "2023-08-30T23:33:20.796623",
     "exception": false,
     "start_time": "2023-08-30T23:33:20.740396",
     "status": "completed"
    },
    "tags": []
   },
   "source": [
    "<div style=\"border-radius:10px; padding: 15px; background-color: #d1d1ed; font-size:115%; text-align:left\">\n",
    "\n",
    "<h3 align=\"left\"><font color=royalblue>✅ Inference:</font></h3>\n",
    "\n",
    "The performance of our Random Forest (RF) model on the test data is as follows:\n",
    "\n",
    "- The **Accuracy** is 83.78%, which means the model is correctly predicting whether a booking will be canceled or not about 84% of the time.\n",
    "\n",
    "- The **Precision** for class 1 (cancellations) is 77.41%, which means that approximately 78% of the bookings that the model predicted as canceled were actually canceled.\n",
    "\n",
    "- The **Recall** for class 1 is 79.43%, which means that the model correctly identified approximately 80% of the actual cancellations.\n",
    "\n",
    "- The **F1-score** for class 1 is 78.41%, which is the harmonic mean of Precision and Recall.\n",
    "\n",
    "- The **AUC** (Area Under the ROC Curve) for class 1 is 91.38%, which means that the model has a very good discriminative power between the two classes.\n",
    "\n",
    "The confusion matrix shows that there are some False Positives and False Negatives, but the model is doing a good job of minimizing them.\n",
    "\n",
    "Additionally, the model is not overfitting, as the metric values for the test and train sets are close together, indicating that the model is generalizing well to unseen data.\n",
    "\n",
    "Compared to the Decision Tree (DT) model, the Random Forest (RF) model shows a significant improvement in all the performance metrics, particularly in reducing the number of False Positives. This indicates that the Random Forest model is better at balancing the trade-off between Precision and Recall, leading to a higher F1-score.\n",
    "\n",
    "Overall, this model is performing well on the test data and seems to be a good model for predicting cancellations, although there is still room for improvement, particularly in reducing the number of False Negatives.\n"
   ]
  },
  {
   "cell_type": "code",
   "execution_count": 46,
   "id": "e41b47ee",
   "metadata": {
    "execution": {
     "iopub.execute_input": "2023-08-30T23:33:20.911562Z",
     "iopub.status.busy": "2023-08-30T23:33:20.911164Z",
     "iopub.status.idle": "2023-08-30T23:33:21.596016Z",
     "shell.execute_reply": "2023-08-30T23:33:21.594924Z"
    },
    "papermill": {
     "duration": 0.745723,
     "end_time": "2023-08-30T23:33:21.598585",
     "exception": false,
     "start_time": "2023-08-30T23:33:20.852862",
     "status": "completed"
    },
    "tags": []
   },
   "outputs": [
    {
     "data": {
      "text/html": [
       "<div>\n",
       "<style scoped>\n",
       "    .dataframe tbody tr th:only-of-type {\n",
       "        vertical-align: middle;\n",
       "    }\n",
       "\n",
       "    .dataframe tbody tr th {\n",
       "        vertical-align: top;\n",
       "    }\n",
       "\n",
       "    .dataframe thead th {\n",
       "        text-align: right;\n",
       "    }\n",
       "</style>\n",
       "<table border=\"1\" class=\"dataframe\">\n",
       "  <thead>\n",
       "    <tr style=\"text-align: right;\">\n",
       "      <th></th>\n",
       "      <th>Random Forest</th>\n",
       "    </tr>\n",
       "  </thead>\n",
       "  <tbody>\n",
       "    <tr>\n",
       "      <th>Accuracy</th>\n",
       "      <td>83.78%</td>\n",
       "    </tr>\n",
       "    <tr>\n",
       "      <th>Precision (Class 1)</th>\n",
       "      <td>77.41%</td>\n",
       "    </tr>\n",
       "    <tr>\n",
       "      <th>Recall (Class 1)</th>\n",
       "      <td>79.43%</td>\n",
       "    </tr>\n",
       "    <tr>\n",
       "      <th>F1-score (Class 1)</th>\n",
       "      <td>78.41%</td>\n",
       "    </tr>\n",
       "    <tr>\n",
       "      <th>AUC (Class 1)</th>\n",
       "      <td>91.38%</td>\n",
       "    </tr>\n",
       "  </tbody>\n",
       "</table>\n",
       "</div>"
      ],
      "text/plain": [
       "                    Random Forest\n",
       "Accuracy                   83.78%\n",
       "Precision (Class 1)        77.41%\n",
       "Recall (Class 1)           79.43%\n",
       "F1-score (Class 1)         78.41%\n",
       "AUC (Class 1)              91.38%"
      ]
     },
     "execution_count": 46,
     "metadata": {},
     "output_type": "execute_result"
    }
   ],
   "source": [
    "# Save the final performance of RF classifier\n",
    "rf_result = metrics_calculator(best_rf, X_test, y_test, 'Random Forest')\n",
    "rf_result"
   ]
  },
  {
   "cell_type": "markdown",
   "id": "5d63f49d",
   "metadata": {
    "papermill": {
     "duration": 0.057914,
     "end_time": "2023-08-30T23:33:21.714055",
     "exception": false,
     "start_time": "2023-08-30T23:33:21.656141",
     "status": "completed"
    },
    "tags": []
   },
   "source": [
    "<a id=\"xgb\"></a>\n",
    "# <p style=\"background-color:royalblue; font-family:calibri; color:white; font-size:150%; text-align:center; border-radius:15px 50px;\">Step 7 | XGBoost Model Building</p>\n",
    "\n",
    "⬆️ [Tabel of Contents](#contents_tabel)"
   ]
  },
  {
   "cell_type": "markdown",
   "id": "018dfae0",
   "metadata": {
    "papermill": {
     "duration": 0.05562,
     "end_time": "2023-08-30T23:33:21.827675",
     "exception": false,
     "start_time": "2023-08-30T23:33:21.772055",
     "status": "completed"
    },
    "tags": []
   },
   "source": [
    "<div style=\"border-radius:10px; padding: 15px; background-color: #d1d1ed; font-size:115%; text-align:left\">\n",
    "\n",
    "__XGBoost__, which stands for __eXtreme Gradient Boosting__, is an efficient and scalable implementation of gradient boosting. It is a __decision-tree-based__ ensemble Machine Learning algorithm that uses a gradient boosting framework. It is particularly popular and effective for classification and regression tasks and has gained reputation for its performance and speed compared to other implementations of gradient boosting. XGBoost is designed to be efficient, flexible and portable."
   ]
  },
  {
   "cell_type": "markdown",
   "id": "aa16fc9b",
   "metadata": {
    "papermill": {
     "duration": 0.055869,
     "end_time": "2023-08-30T23:33:21.939557",
     "exception": false,
     "start_time": "2023-08-30T23:33:21.883688",
     "status": "completed"
    },
    "tags": []
   },
   "source": [
    "<a id=\"xgb_base\"></a>\n",
    "# <b><span style='color:darkturquoise'>Step 7.1 |</span><span style='color:royalblue'>  XGBoost Base Model Definition</span></b>"
   ]
  },
  {
   "cell_type": "markdown",
   "id": "8421ae5f",
   "metadata": {
    "papermill": {
     "duration": 0.055886,
     "end_time": "2023-08-30T23:33:22.051791",
     "exception": false,
     "start_time": "2023-08-30T23:33:21.995905",
     "status": "completed"
    },
    "tags": []
   },
   "source": [
    "<div style=\"border-radius:10px; padding: 15px; background-color: #d1d1ed; font-size:115%; text-align:left\">\n",
    "\n",
    "First of all, let's define the base XGBoost model. We set `use_label_encoder=False` to avoid a deprecation warning. The `eval_metric` is set to '__logloss__' because it is a more appropriate metric for binary classification tasks and for the slight class imbalance we have in our target variable:"
   ]
  },
  {
   "cell_type": "code",
   "execution_count": 47,
   "id": "b16673f5",
   "metadata": {
    "execution": {
     "iopub.execute_input": "2023-08-30T23:33:22.165220Z",
     "iopub.status.busy": "2023-08-30T23:33:22.164843Z",
     "iopub.status.idle": "2023-08-30T23:33:22.169908Z",
     "shell.execute_reply": "2023-08-30T23:33:22.169077Z"
    },
    "papermill": {
     "duration": 0.064164,
     "end_time": "2023-08-30T23:33:22.171815",
     "exception": false,
     "start_time": "2023-08-30T23:33:22.107651",
     "status": "completed"
    },
    "tags": []
   },
   "outputs": [],
   "source": [
    "# Define the model\n",
    "xgb_base = xgb.XGBClassifier(use_label_encoder=False, eval_metric='logloss', random_state=0)"
   ]
  },
  {
   "cell_type": "markdown",
   "id": "52295a11",
   "metadata": {
    "papermill": {
     "duration": 0.055465,
     "end_time": "2023-08-30T23:33:22.283661",
     "exception": false,
     "start_time": "2023-08-30T23:33:22.228196",
     "status": "completed"
    },
    "tags": []
   },
   "source": [
    "<a id=\"xgb_hp\"></a>\n",
    "# <b><span style='color:darkturquoise'>Step 7.2 |</span><span style='color:royalblue'>  XGBoost Hyperparameter Tuning</span></b>"
   ]
  },
  {
   "cell_type": "markdown",
   "id": "37b858b2",
   "metadata": {
    "papermill": {
     "duration": 0.056289,
     "end_time": "2023-08-30T23:33:22.396134",
     "exception": false,
     "start_time": "2023-08-30T23:33:22.339845",
     "status": "completed"
    },
    "tags": []
   },
   "source": [
    "<div style=\"border-radius:10px; padding: 15px; background-color: #d1d1ed; font-size:115%; text-align:left\">\n",
    "\n",
    "XGBoost has several hyperparameters that need to be tuned to improve the performance of the model. Some of the important hyperparameters are:\n",
    "\n",
    "- __`n_estimators`__: This is the number of boosting rounds or trees to be built. It is usually set to a high number, but XGBoost has an early stopping feature that stops the model building process when no further improvements are observed.\n",
    "\n",
    "    \n",
    "- __`learning_rate`__: This is the step size shrinkage used to prevent overfitting. It ranges from 0 to 1.\n",
    "\n",
    "    \n",
    "- __`max_depth`__: This is the maximum depth of a tree and can range from 1 to infinity.\n",
    "\n",
    "    \n",
    "- __`subsample`__: This is the fraction of observations to be randomly sampled for each tree. It ranges from 0 to 1.\n",
    "\n",
    "    \n",
    "- __`colsample_bytree`__: This is the fraction of features to be randomly sampled for each tree. It ranges from 0 to 1."
   ]
  },
  {
   "cell_type": "markdown",
   "id": "b5e1c00e",
   "metadata": {
    "papermill": {
     "duration": 0.055888,
     "end_time": "2023-08-30T23:33:22.507748",
     "exception": false,
     "start_time": "2023-08-30T23:33:22.451860",
     "status": "completed"
    },
    "tags": []
   },
   "source": [
    "<div style=\"border-radius:10px; padding: 15px; background-color: #d1d1ed; font-size:115%; text-align:left\">\n",
    "\n",
    "We will tune these hyperparameters using the `tune_clf_hyperparameters` function, which performs a grid search over the specified parameter grid and returns the best model.\n",
    "\n",
    "Additionally, XGBoost has a built-in function `xgb.cv` that can be used to find the optimum __number of boosting rounds__ or `n_estimators`. This function trains the model several times on different subsets of the data and returns the optimum number of boosting rounds for which the error is minimum. However, since we are tuning `n_estimators` in the grid search, there is no need to use this function in this case."
   ]
  },
  {
   "cell_type": "code",
   "execution_count": 48,
   "id": "c2a3bdcc",
   "metadata": {
    "execution": {
     "iopub.execute_input": "2023-08-30T23:33:22.622439Z",
     "iopub.status.busy": "2023-08-30T23:33:22.621719Z",
     "iopub.status.idle": "2023-08-30T23:33:22.628868Z",
     "shell.execute_reply": "2023-08-30T23:33:22.627950Z"
    },
    "papermill": {
     "duration": 0.067284,
     "end_time": "2023-08-30T23:33:22.631174",
     "exception": false,
     "start_time": "2023-08-30T23:33:22.563890",
     "status": "completed"
    },
    "tags": []
   },
   "outputs": [],
   "source": [
    "# Define the parameter grid\n",
    "param_grid_xgb = {\n",
    "    'n_estimators': [250, 350],\n",
    "    'learning_rate': [0.01, 0.1],\n",
    "    'max_depth': [7, 8],\n",
    "    'subsample': [0.7, 0.8],\n",
    "    'colsample_bytree': [0.8, 0.9],\n",
    "    'scale_pos_weight': [1, (y_train == 0).sum() / (y_train == 1).sum()]\n",
    "}"
   ]
  },
  {
   "cell_type": "code",
   "execution_count": 49,
   "id": "6fdac9a3",
   "metadata": {
    "_kg_hide-output": true,
    "execution": {
     "iopub.execute_input": "2023-08-30T23:33:22.745391Z",
     "iopub.status.busy": "2023-08-30T23:33:22.744982Z",
     "iopub.status.idle": "2023-08-31T02:16:52.262303Z",
     "shell.execute_reply": "2023-08-31T02:16:52.261151Z"
    },
    "papermill": {
     "duration": 9809.577826,
     "end_time": "2023-08-31T02:16:52.265496",
     "exception": false,
     "start_time": "2023-08-30T23:33:22.687670",
     "status": "completed"
    },
    "tags": []
   },
   "outputs": [
    {
     "name": "stderr",
     "output_type": "stream",
     "text": [
      "/opt/conda/lib/python3.10/site-packages/scipy/__init__.py:146: UserWarning: A NumPy version >=1.16.5 and <1.23.0 is required for this version of SciPy (detected version 1.23.5\n",
      "  warnings.warn(f\"A NumPy version >={np_minversion} and <{np_maxversion}\"\n",
      "/opt/conda/lib/python3.10/site-packages/scipy/__init__.py:146: UserWarning: A NumPy version >=1.16.5 and <1.23.0 is required for this version of SciPy (detected version 1.23.5\n",
      "  warnings.warn(f\"A NumPy version >={np_minversion} and <{np_maxversion}\"\n",
      "/opt/conda/lib/python3.10/site-packages/scipy/__init__.py:146: UserWarning: A NumPy version >=1.16.5 and <1.23.0 is required for this version of SciPy (detected version 1.23.5\n",
      "  warnings.warn(f\"A NumPy version >={np_minversion} and <{np_maxversion}\"\n"
     ]
    }
   ],
   "source": [
    "# Call the function for hyperparameter tuning\n",
    "best_xgb, best_xgb_hyperparams = tune_clf_hyperparameters(xgb_base, param_grid_xgb, X_train, y_train)"
   ]
  },
  {
   "cell_type": "code",
   "execution_count": 50,
   "id": "2b59ffd4",
   "metadata": {
    "execution": {
     "iopub.execute_input": "2023-08-31T02:16:52.386151Z",
     "iopub.status.busy": "2023-08-31T02:16:52.385701Z",
     "iopub.status.idle": "2023-08-31T02:16:52.392262Z",
     "shell.execute_reply": "2023-08-31T02:16:52.390598Z"
    },
    "papermill": {
     "duration": 0.068767,
     "end_time": "2023-08-31T02:16:52.394558",
     "exception": false,
     "start_time": "2023-08-31T02:16:52.325791",
     "status": "completed"
    },
    "tags": []
   },
   "outputs": [
    {
     "name": "stdout",
     "output_type": "stream",
     "text": [
      "XGBoost Optimal Hyperparameters: \n",
      " {'colsample_bytree': 0.9, 'learning_rate': 0.1, 'max_depth': 8, 'n_estimators': 350, 'scale_pos_weight': 1.697231588790343, 'subsample': 0.7}\n"
     ]
    }
   ],
   "source": [
    "print('XGBoost Optimal Hyperparameters: \\n', best_xgb_hyperparams)"
   ]
  },
  {
   "cell_type": "markdown",
   "id": "8cedbbdf",
   "metadata": {
    "papermill": {
     "duration": 0.058075,
     "end_time": "2023-08-31T02:16:52.510863",
     "exception": false,
     "start_time": "2023-08-31T02:16:52.452788",
     "status": "completed"
    },
    "tags": []
   },
   "source": [
    "<a id=\"xgb_evaluation\"></a>\n",
    "# <b><span style='color:darkturquoise'>Step 7.3 |</span><span style='color:royalblue'> XGBoost Model Evaluation</span></b>"
   ]
  },
  {
   "cell_type": "markdown",
   "id": "c5e01369",
   "metadata": {
    "papermill": {
     "duration": 0.057678,
     "end_time": "2023-08-31T02:16:52.626921",
     "exception": false,
     "start_time": "2023-08-31T02:16:52.569243",
     "status": "completed"
    },
    "tags": []
   },
   "source": [
    "<div style=\"border-radius:10px; padding: 15px; background-color: #d1d1ed; font-size:115%; text-align:left\">\n",
    "\n",
    "Next, let's assess the performance of our optimized XGBoost model by utilizing the `model_evaluation` function:"
   ]
  },
  {
   "cell_type": "code",
   "execution_count": 51,
   "id": "f67ed226",
   "metadata": {
    "execution": {
     "iopub.execute_input": "2023-08-31T02:16:52.746218Z",
     "iopub.status.busy": "2023-08-31T02:16:52.745203Z",
     "iopub.status.idle": "2023-08-31T02:16:55.284807Z",
     "shell.execute_reply": "2023-08-31T02:16:55.283623Z"
    },
    "papermill": {
     "duration": 2.602829,
     "end_time": "2023-08-31T02:16:55.288342",
     "exception": false,
     "start_time": "2023-08-31T02:16:52.685513",
     "status": "completed"
    },
    "tags": []
   },
   "outputs": [
    {
     "name": "stdout",
     "output_type": "stream",
     "text": [
      "\n",
      "\t  Classification report for training set\n",
      "-------------------------------------------------------\n",
      "              precision    recall  f1-score   support\n",
      "\n",
      "           0       0.93      0.91      0.92     59897\n",
      "           1       0.86      0.88      0.87     35291\n",
      "\n",
      "    accuracy                           0.90     95188\n",
      "   macro avg       0.89      0.90      0.90     95188\n",
      "weighted avg       0.90      0.90      0.90     95188\n",
      "\n",
      "\n",
      "\t   Classification report for test set\n",
      "-------------------------------------------------------\n",
      "              precision    recall  f1-score   support\n",
      "\n",
      "           0       0.88      0.88      0.88     14974\n",
      "           1       0.79      0.80      0.80      8823\n",
      "\n",
      "    accuracy                           0.85     23797\n",
      "   macro avg       0.84      0.84      0.84     23797\n",
      "weighted avg       0.85      0.85      0.85     23797\n",
      "\n"
     ]
    },
    {
     "data": {
      "image/png": "[encoded data removed]",
      "text/plain": [
       "<Figure size 1500x500 with 3 Axes>"
      ]
     },
     "metadata": {},
     "output_type": "display_data"
    }
   ],
   "source": [
    "model_evaluation(best_xgb, X_train, X_test, y_train, y_test, 'XGBoost')"
   ]
  },
  {
   "cell_type": "markdown",
   "id": "27ab81ae",
   "metadata": {
    "papermill": {
     "duration": 0.061242,
     "end_time": "2023-08-31T02:16:55.410088",
     "exception": false,
     "start_time": "2023-08-31T02:16:55.348846",
     "status": "completed"
    },
    "tags": []
   },
   "source": [
    "<div style=\"border-radius:10px; padding: 15px; background-color: #d1d1ed; font-size:115%; text-align:left\">\n",
    "\n",
    "<h3 align=\"left\"><font color=royalblue>✅ Inference:</font></h3>\n",
    "\n",
    "The performance of our XGBoost (XGB) model on the test data is as follows:\n",
    "\n",
    "- The **Accuracy** is 84.9%, which means the model is correctly predicting whether a booking will be canceled or not about 85% of the time.\n",
    "\n",
    "- The **Precision** for class 1 (cancellations) is 79.4%, which means that approximately 80% of the bookings that the model predicted as canceled were actually canceled.\n",
    "\n",
    "- The **Recall** for class 1 is 79.8%, which means that the model correctly identified approximately 80% of the actual cancellations.\n",
    "\n",
    "- The **F1-score** for class 1 is 79.6%, which is the harmonic mean of Precision and Recall.\n",
    "\n",
    "- The **AUC** (Area Under the ROC Curve) for class 1 is 92.1%, which means that the model has a very good discriminative power between the two classes.\n",
    "\n",
    "The model is not overfitting, as the metric values for the test and train sets are close together, indicating that the model is generalizing well to unseen data.\n",
    "\n",
    "Compared to the Random Forest (RF) model, the XGBoost (XGB) model shows a slight improvement in all the performance metrics. Although the improvement is not significant, it is still better at balancing the trade-off between Precision and Recall, leading to a higher F1-score. This indicates that the XGBoost model is a better model for predicting cancellations.\n",
    "\n",
    "Overall, this model is performing well on the test data and seems to be a good model for predicting cancellations."
   ]
  },
  {
   "cell_type": "code",
   "execution_count": 52,
   "id": "fd531d46",
   "metadata": {
    "execution": {
     "iopub.execute_input": "2023-08-31T02:16:55.532698Z",
     "iopub.status.busy": "2023-08-31T02:16:55.532257Z",
     "iopub.status.idle": "2023-08-31T02:16:55.851960Z",
     "shell.execute_reply": "2023-08-31T02:16:55.850877Z"
    },
    "papermill": {
     "duration": 0.384374,
     "end_time": "2023-08-31T02:16:55.854434",
     "exception": false,
     "start_time": "2023-08-31T02:16:55.470060",
     "status": "completed"
    },
    "tags": []
   },
   "outputs": [
    {
     "data": {
      "text/html": [
       "<div>\n",
       "<style scoped>\n",
       "    .dataframe tbody tr th:only-of-type {\n",
       "        vertical-align: middle;\n",
       "    }\n",
       "\n",
       "    .dataframe tbody tr th {\n",
       "        vertical-align: top;\n",
       "    }\n",
       "\n",
       "    .dataframe thead th {\n",
       "        text-align: right;\n",
       "    }\n",
       "</style>\n",
       "<table border=\"1\" class=\"dataframe\">\n",
       "  <thead>\n",
       "    <tr style=\"text-align: right;\">\n",
       "      <th></th>\n",
       "      <th>XGBoost</th>\n",
       "    </tr>\n",
       "  </thead>\n",
       "  <tbody>\n",
       "    <tr>\n",
       "      <th>Accuracy</th>\n",
       "      <td>84.86%</td>\n",
       "    </tr>\n",
       "    <tr>\n",
       "      <th>Precision (Class 1)</th>\n",
       "      <td>79.42%</td>\n",
       "    </tr>\n",
       "    <tr>\n",
       "      <th>Recall (Class 1)</th>\n",
       "      <td>79.85%</td>\n",
       "    </tr>\n",
       "    <tr>\n",
       "      <th>F1-score (Class 1)</th>\n",
       "      <td>79.63%</td>\n",
       "    </tr>\n",
       "    <tr>\n",
       "      <th>AUC (Class 1)</th>\n",
       "      <td>92.11%</td>\n",
       "    </tr>\n",
       "  </tbody>\n",
       "</table>\n",
       "</div>"
      ],
      "text/plain": [
       "                    XGBoost\n",
       "Accuracy             84.86%\n",
       "Precision (Class 1)  79.42%\n",
       "Recall (Class 1)     79.85%\n",
       "F1-score (Class 1)   79.63%\n",
       "AUC (Class 1)        92.11%"
      ]
     },
     "execution_count": 52,
     "metadata": {},
     "output_type": "execute_result"
    }
   ],
   "source": [
    "# Save the final performance of XGBoost classifier\n",
    "xgb_result = metrics_calculator(best_xgb, X_test, y_test, 'XGBoost')\n",
    "xgb_result"
   ]
  },
  {
   "cell_type": "markdown",
   "id": "a8b2e94c",
   "metadata": {
    "papermill": {
     "duration": 0.061573,
     "end_time": "2023-08-31T02:16:55.976176",
     "exception": false,
     "start_time": "2023-08-31T02:16:55.914603",
     "status": "completed"
    },
    "tags": []
   },
   "source": [
    "<a id=\"xgb_imp\"></a>\n",
    "# <b><span style='color:darkturquoise'>Step 7.4 |</span><span style='color:royalblue'>  XGBoost Feature Importance </span></b>\n"
   ]
  },
  {
   "cell_type": "markdown",
   "id": "2ea55560",
   "metadata": {
    "papermill": {
     "duration": 0.061251,
     "end_time": "2023-08-31T02:16:56.099078",
     "exception": false,
     "start_time": "2023-08-31T02:16:56.037827",
     "status": "completed"
    },
    "tags": []
   },
   "source": [
    "<div style=\"border-radius:10px; padding: 15px; background-color: #d1d1ed; font-size:115%; text-align:left\">\n",
    "\n",
    "XGBoost, being a tree-based model, has the inherent ability to compute feature importances. Feature importance gives you a score for each feature of your data, the higher the score more important or relevant is the feature towards your output variable. It can aid in feature selection and model optimization:"
   ]
  },
  {
   "cell_type": "code",
   "execution_count": 53,
   "id": "9e67986e",
   "metadata": {
    "execution": {
     "iopub.execute_input": "2023-08-31T02:16:56.223192Z",
     "iopub.status.busy": "2023-08-31T02:16:56.221851Z",
     "iopub.status.idle": "2023-08-31T02:16:57.402384Z",
     "shell.execute_reply": "2023-08-31T02:16:57.401191Z"
    },
    "papermill": {
     "duration": 1.246972,
     "end_time": "2023-08-31T02:16:57.406811",
     "exception": false,
     "start_time": "2023-08-31T02:16:56.159839",
     "status": "completed"
    },
    "tags": []
   },
   "outputs": [
    {
     "data": {
      "image/png": "[encoded data removed]",
      "text/plain": [
       "<Figure size 2000x1400 with 1 Axes>"
      ]
     },
     "metadata": {},
     "output_type": "display_data"
    }
   ],
   "source": [
    "# Compute feature importances\n",
    "feature_importances = best_xgb.feature_importances_\n",
    "\n",
    "# Sort the feature importances in descending order and get the indices\n",
    "sorted_indices = np.argsort(feature_importances)[::-1]\n",
    "\n",
    "# Plot feature importances\n",
    "plt.figure(figsize=(10, 7), dpi=200)\n",
    "sns.barplot(x=feature_importances[sorted_indices], y=X.columns[sorted_indices], color='darkturquoise')\n",
    "plt.xlabel('Feature Importance')\n",
    "plt.title('Feature Importances')\n",
    "plt.yticks(fontsize=7)\n",
    "plt.show()"
   ]
  },
  {
   "cell_type": "markdown",
   "id": "cf88e48b",
   "metadata": {
    "papermill": {
     "duration": 0.06777,
     "end_time": "2023-08-31T02:16:57.542229",
     "exception": false,
     "start_time": "2023-08-31T02:16:57.474459",
     "status": "completed"
    },
    "tags": []
   },
   "source": [
    "<div style=\"border-radius:10px; padding: 15px; background-color: #d1d1ed; font-size:115%; text-align:left\">\n",
    "\n",
    "<h3 align=\"left\"><font color=royalblue>Inference:</font></h3>\n",
    "\n",
    "The __XGBoost__ model has found that features related to the __deposit type__, __previous cancellations__, __car parking requirements__, __market segment__, and __customer type__ are the __most important features__ for predicting cancellations. This suggests that the financial and logistical aspects, as well as the booking channel and customer category, are particularly important in determining whether a booking will be canceled."
   ]
  },
  {
   "cell_type": "markdown",
   "id": "d6fad385",
   "metadata": {
    "papermill": {
     "duration": 0.066452,
     "end_time": "2023-08-31T02:16:57.674337",
     "exception": false,
     "start_time": "2023-08-31T02:16:57.607885",
     "status": "completed"
    },
    "tags": []
   },
   "source": [
    "<a id=\"conclusion\"></a>\n",
    "# <p style=\"background-color:royalblue; font-family:calibri; color:white; font-size:150%; text-align:center; border-radius:15px 50px;\">Step 8 | Conclusion</p>\n",
    "\n",
    "⬆️ [Tabel of Contents](#contents_tabel)"
   ]
  },
  {
   "cell_type": "markdown",
   "id": "8714bc84",
   "metadata": {
    "papermill": {
     "duration": 0.067035,
     "end_time": "2023-08-31T02:16:57.807228",
     "exception": false,
     "start_time": "2023-08-31T02:16:57.740193",
     "status": "completed"
    },
    "tags": []
   },
   "source": [
    "<div style=\"border-radius:10px; padding: 15px; background-color: #d1d1ed; font-size:115%; text-align:left\">\n",
    "\n",
    "As we explained earlier, the most important metric for this project is the F1-score for class '1' (canceled). A high F1-score indicates a balance between minimizing the cost associated with false negatives (overbooking rooms expecting cancellations that do not happen) and false positives (predicting cancellations when the guest actually arrives), which is crucial for the hotel to optimize room availability while minimizing overbooking and unsatisfied customers.\n",
    "\n",
    "Next, we can check the performance of all previous classifiers based on metrics:"
   ]
  },
  {
   "cell_type": "code",
   "execution_count": 54,
   "id": "22d9ca68",
   "metadata": {
    "execution": {
     "iopub.execute_input": "2023-08-31T02:16:57.941560Z",
     "iopub.status.busy": "2023-08-31T02:16:57.941135Z",
     "iopub.status.idle": "2023-08-31T02:16:58.019950Z",
     "shell.execute_reply": "2023-08-31T02:16:58.018627Z"
    },
    "papermill": {
     "duration": 0.149452,
     "end_time": "2023-08-31T02:16:58.022837",
     "exception": false,
     "start_time": "2023-08-31T02:16:57.873385",
     "status": "completed"
    },
    "tags": []
   },
   "outputs": [
    {
     "data": {
      "text/html": [
       "<style type=\"text/css\">\n",
       "#T_229c3_row0_col3, #T_229c3_row1_col3, #T_229c3_row2_col3 {\n",
       "  background-color: royalblue;\n",
       "}\n",
       "</style>\n",
       "<table id=\"T_229c3\">\n",
       "  <thead>\n",
       "    <tr>\n",
       "      <th class=\"blank level0\" >&nbsp;</th>\n",
       "      <th id=\"T_229c3_level0_col0\" class=\"col_heading level0 col0\" >Accuracy</th>\n",
       "      <th id=\"T_229c3_level0_col1\" class=\"col_heading level0 col1\" >Precision (Class 1)</th>\n",
       "      <th id=\"T_229c3_level0_col2\" class=\"col_heading level0 col2\" >Recall (Class 1)</th>\n",
       "      <th id=\"T_229c3_level0_col3\" class=\"col_heading level0 col3\" >F1-score (Class 1)</th>\n",
       "      <th id=\"T_229c3_level0_col4\" class=\"col_heading level0 col4\" >AUC (Class 1)</th>\n",
       "    </tr>\n",
       "  </thead>\n",
       "  <tbody>\n",
       "    <tr>\n",
       "      <th id=\"T_229c3_level0_row0\" class=\"row_heading level0 row0\" >XGBoost</th>\n",
       "      <td id=\"T_229c3_row0_col0\" class=\"data row0 col0\" >84.86%</td>\n",
       "      <td id=\"T_229c3_row0_col1\" class=\"data row0 col1\" >79.42%</td>\n",
       "      <td id=\"T_229c3_row0_col2\" class=\"data row0 col2\" >79.85%</td>\n",
       "      <td id=\"T_229c3_row0_col3\" class=\"data row0 col3\" >79.63%</td>\n",
       "      <td id=\"T_229c3_row0_col4\" class=\"data row0 col4\" >92.11%</td>\n",
       "    </tr>\n",
       "    <tr>\n",
       "      <th id=\"T_229c3_level0_row1\" class=\"row_heading level0 row1\" >Random Forest</th>\n",
       "      <td id=\"T_229c3_row1_col0\" class=\"data row1 col0\" >83.78%</td>\n",
       "      <td id=\"T_229c3_row1_col1\" class=\"data row1 col1\" >77.41%</td>\n",
       "      <td id=\"T_229c3_row1_col2\" class=\"data row1 col2\" >79.43%</td>\n",
       "      <td id=\"T_229c3_row1_col3\" class=\"data row1 col3\" >78.41%</td>\n",
       "      <td id=\"T_229c3_row1_col4\" class=\"data row1 col4\" >91.38%</td>\n",
       "    </tr>\n",
       "    <tr>\n",
       "      <th id=\"T_229c3_level0_row2\" class=\"row_heading level0 row2\" >Decision Tree</th>\n",
       "      <td id=\"T_229c3_row2_col0\" class=\"data row2 col0\" >80.3%</td>\n",
       "      <td id=\"T_229c3_row2_col1\" class=\"data row2 col1\" >70.5%</td>\n",
       "      <td id=\"T_229c3_row2_col2\" class=\"data row2 col2\" >80.61%</td>\n",
       "      <td id=\"T_229c3_row2_col3\" class=\"data row2 col3\" >75.22%</td>\n",
       "      <td id=\"T_229c3_row2_col4\" class=\"data row2 col4\" >88.63%</td>\n",
       "    </tr>\n",
       "  </tbody>\n",
       "</table>\n"
      ],
      "text/plain": [
       "<pandas.io.formats.style.Styler at 0x7a1bd6c245b0>"
      ]
     },
     "execution_count": 54,
     "metadata": {},
     "output_type": "execute_result"
    }
   ],
   "source": [
    "# Concatenate previous classifiers perfermance results into a single dataframe\n",
    "results = pd.concat([dt_result, rf_result, xgb_result], axis=1).T\n",
    "\n",
    "# Sort the dataframe in descending order based on F1-score (class 1) values\n",
    "results.sort_values(by='F1-score (Class 1)', ascending=False, inplace=True)\n",
    "\n",
    "# Color the F1-score column\n",
    "results.style.applymap(lambda x: 'background-color: royalblue', subset='F1-score (Class 1)')"
   ]
  },
  {
   "cell_type": "markdown",
   "id": "93b167d3",
   "metadata": {
    "papermill": {
     "duration": 0.065755,
     "end_time": "2023-08-31T02:16:58.155818",
     "exception": false,
     "start_time": "2023-08-31T02:16:58.090063",
     "status": "completed"
    },
    "tags": []
   },
   "source": [
    "<div style=\"border-radius:10px; padding: 15px; background-color: #d1d1ed; font-size:115%; text-align:left\">\n",
    "\n",
    "Below, the F1-score for class '1' (canceled) of all previously evaluated classifiers is illustrated in a bar chart:"
   ]
  },
  {
   "cell_type": "code",
   "execution_count": 55,
   "id": "2bec0744",
   "metadata": {
    "execution": {
     "iopub.execute_input": "2023-08-31T02:16:58.290505Z",
     "iopub.status.busy": "2023-08-31T02:16:58.289748Z",
     "iopub.status.idle": "2023-08-31T02:16:58.614897Z",
     "shell.execute_reply": "2023-08-31T02:16:58.613619Z"
    },
    "papermill": {
     "duration": 0.395602,
     "end_time": "2023-08-31T02:16:58.617613",
     "exception": false,
     "start_time": "2023-08-31T02:16:58.222011",
     "status": "completed"
    },
    "tags": []
   },
   "outputs": [
    {
     "data": {
      "image/png": "[encoded data removed]",
      "text/plain": [
       "<Figure size 700x280 with 1 Axes>"
      ]
     },
     "metadata": {},
     "output_type": "display_data"
    }
   ],
   "source": [
    "# Prepare values\n",
    "results.sort_values(by='F1-score (Class 1)', ascending=True, inplace=True)\n",
    "f1_scores = results['F1-score (Class 1)'].str.strip('%').astype(float)\n",
    "\n",
    "# Plot the barh chart\n",
    "fig, ax = plt.subplots(figsize=(10, 4), dpi=70)\n",
    "ax.barh(results.index, f1_scores, color='royalblue')\n",
    "\n",
    "# Annotate the values and indexes\n",
    "for i, (value, name) in enumerate(zip(f1_scores, results.index)):\n",
    "    ax.text(value+0.5, i, f\"{value}%\", ha='left', va='center', fontweight='bold', color='black')\n",
    "    ax.text(10, i, name, ha='left', va='center', fontweight='bold', color='white', fontsize=18)\n",
    "\n",
    "# Remove yticks\n",
    "ax.set_yticks([])\n",
    "\n",
    "# Set x-axis limit\n",
    "ax.set_xlim([0,110])\n",
    "\n",
    "# Add title and xlabel\n",
    "plt.title(\"F1-score for class '1'\", fontweight='bold', fontsize=22)\n",
    "plt.xlabel('Percentages (%)', fontsize=16)\n",
    "plt.show()"
   ]
  },
  {
   "cell_type": "markdown",
   "id": "6a3ae110",
   "metadata": {
    "papermill": {
     "duration": 0.066075,
     "end_time": "2023-08-31T02:16:58.751094",
     "exception": false,
     "start_time": "2023-08-31T02:16:58.685019",
     "status": "completed"
    },
    "tags": []
   },
   "source": [
    "<div style=\"border-radius:10px; padding: 15px; background-color: #d1d1ed; font-size:120%; text-align:left\">\n",
    "\n",
    "Among all the tested classifiers, __XGBoost__ had the best performance in predicting hotel booking cancellations:\n",
    "\n",
    "🏆 __Accuracy = 85.04%__\n",
    "    \n",
    "🏆 __F1-score (Class 1) = 79.85%__\n",
    "    \n",
    "🏆 __Precision (Class 1) = 79.76%__\n",
    "    \n",
    "🏆 __Recall (Class 1) = 79.94%__\n",
    "    \n",
    "🏆 __AUC (Class 1) = 92.17%__"
   ]
  },
  {
   "cell_type": "markdown",
   "id": "4a33e8e9",
   "metadata": {
    "papermill": {
     "duration": 0.06638,
     "end_time": "2023-08-31T02:16:58.884652",
     "exception": false,
     "start_time": "2023-08-31T02:16:58.818272",
     "status": "completed"
    },
    "tags": []
   },
   "source": [
    "<div style=\"display: flex; align-items: center; justify-content: center; border-radius: 10px; padding: 20px; background-color: #d1d1ed; font-size: 120%; text-align: center;\">\n",
    "\n",
    "<strong>🎯 If you need more information or want to explore the code, feel free to visit the project repository on <a href=\"https://github.com/FarzadNekouee/Hotel_Booking_Cancellation_Prediction\">GitHub</a> 🎯</strong>\n",
    "</div>\n"
   ]
  },
  {
   "cell_type": "markdown",
   "id": "1d2e5dbd",
   "metadata": {
    "papermill": {
     "duration": 0.065882,
     "end_time": "2023-08-31T02:16:59.016974",
     "exception": false,
     "start_time": "2023-08-31T02:16:58.951092",
     "status": "completed"
    },
    "tags": []
   },
   "source": [
    "<h2 align=\"left\"><font color='royalblue'>Best Regards!</font></h2>"
   ]
  }
 ],
 "metadata": {
  "kernelspec": {
   "display_name": "Python 3",
   "language": "python",
   "name": "python3"
  },
  "language_info": {
   "codemirror_mode": {
    "name": "ipython",
    "version": 3
   },
   "file_extension": ".py",
   "mimetype": "text/x-python",
   "name": "python",
   "nbconvert_exporter": "python",
   "pygments_lexer": "ipython3",
   "version": "3.11.3"
  },
  "papermill": {
   "default_parameters": {},
   "duration": 13115.536067,
   "end_time": "2023-08-31T02:17:01.738350",
   "environment_variables": {},
   "exception": null,
   "input_path": "__notebook__.ipynb",
   "output_path": "__notebook__.ipynb",
   "parameters": {},
   "start_time": "2023-08-30T22:38:26.202283",
   "version": "2.4.0"
  }
 },
 "nbformat": 4,
 "nbformat_minor": 5
}
